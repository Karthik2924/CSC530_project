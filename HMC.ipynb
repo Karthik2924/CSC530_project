{
 "cells": [
  {
   "cell_type": "code",
   "execution_count": null,
   "id": "e41cbb0b-bd85-4523-88a9-83ed1a2149b7",
   "metadata": {},
   "outputs": [],
   "source": [
    "import LinearAlgebra"
   ]
  },
  {
   "cell_type": "code",
   "execution_count": null,
   "id": "f79274a3-0204-4c1b-9bc0-7e8f5ce54ee7",
   "metadata": {},
   "outputs": [],
   "source": [
    "import Random"
   ]
  },
  {
   "cell_type": "code",
   "execution_count": null,
   "id": "36b48f8f-1f9b-4a82-99ff-2d62813572b6",
   "metadata": {},
   "outputs": [],
   "source": [
    "import BenchmarkTools"
   ]
  },
  {
   "cell_type": "code",
   "execution_count": null,
   "id": "870af20c-7548-438a-bad8-bc6f1be30a90",
   "metadata": {},
   "outputs": [],
   "source": [
    "import StaticArrays\n",
    "# details on staticarrays here https://m3g.github.io/JuliaNotes.jl/stable/immutable/"
   ]
  },
  {
   "cell_type": "code",
   "execution_count": null,
   "id": "9e71316a-a1c7-4b96-801a-ff3395764834",
   "metadata": {},
   "outputs": [],
   "source": [
    "import NBInclude"
   ]
  },
  {
   "cell_type": "code",
   "execution_count": null,
   "id": "417399a9-cf7a-48c1-833b-0e4c6b600103",
   "metadata": {},
   "outputs": [],
   "source": [
    "# import the code from the l,d motif simulation notebook\n",
    "NBInclude.@nbinclude(\"simulate_ld_motif.ipynb\")"
   ]
  },
  {
   "cell_type": "markdown",
   "id": "fde9f6b0-d11e-46b3-9b4a-80e496e80acc",
   "metadata": {},
   "source": [
    "# try calculating something like a gradient\n",
    "which direction should we turn each dimension to increase the score?"
   ]
  },
  {
   "cell_type": "code",
   "execution_count": null,
   "id": "b59cb18c-af4c-4348-bff6-91a08e6a12ba",
   "metadata": {},
   "outputs": [],
   "source": [
    "# it is written in such a way that it is continuously defined\n",
    "function Score(Starts_inp, Seqs=sequences, Length=length(motif))\n",
    "    maxScore = Length * length(Seqs)\n",
    "        \n",
    "    seqsMatrix = permutedims(reduce(hcat, map((s, i) -> s[i:(i + Length - 1)], Seqs, Starts_inp)))\n",
    "    \n",
    "    # find the most common element in each column\n",
    "    mostCommon = mapslices(StatsBase.mode, seqsMatrix, dims = 1)\n",
    "    \n",
    "    # now count how many sequences are equal to the consensus\n",
    "    thisScore = sum(map((i, j) -> sum(i .== j), eachslice(seqsMatrix, dims = 2), mostCommon))\n",
    "    \n",
    "    return(maxScore - thisScore)\n",
    "end"
   ]
  },
  {
   "cell_type": "code",
   "execution_count": null,
   "id": "fb5091c0-da4e-4c98-984c-1d0403afae0c",
   "metadata": {},
   "outputs": [],
   "source": [
    "# calculate a partial score in the plus and minus direction\n",
    "# return positive if going in the positive direction increases the score\n",
    "# return negative if going in the negative direction increases the score\n",
    "# the value given is the sum score difference gained from going x-1 -> x -> x+1\n",
    "function Grad(Starts_inp, seq)\n",
    "    Starts_inp_mod_low = copy(Starts_inp)\n",
    "    Starts_inp_mod_high = copy(Starts_inp)\n",
    "    Starts_inp_mod_low[seq] -= 1\n",
    "    Starts_inp_mod_high[seq] += 1\n",
    "    score1 = Score(Starts_inp) - Score(Starts_inp_mod_low)\n",
    "    score2 = Score(Starts_inp) - Score(Starts_inp_mod_high)\n",
    "    return(score2 - score1)\n",
    "end"
   ]
  },
  {
   "cell_type": "code",
   "execution_count": null,
   "id": "7a14de6c-bfcc-4165-bf9c-5aea729fcf7e",
   "metadata": {},
   "outputs": [],
   "source": [
    "function CalcGrad(StartsInp)\n",
    "    return Grad.((StartsInp,), 1:length(StartsInp))\n",
    "end"
   ]
  },
  {
   "cell_type": "code",
   "execution_count": null,
   "id": "4b9e32f4-d5d7-44a9-8940-61f94923fa2f",
   "metadata": {},
   "outputs": [],
   "source": [
    "function Roll(Position, Velocity, tmax = 10)\n",
    "    # copy the inputs so we don't modify them on accident\n",
    "    position = copy(Position)\n",
    "    \n",
    "    velocity = copy(Velocity)\n",
    "    score = zeros(Int64, tmax)\n",
    "    # continue rolling until t > 10 or velocity is 0\n",
    "    t = 1\n",
    "    while (t <= tmax) & (any(velocity .!= 0))\n",
    "        # calculate the current score\n",
    "        score[t] = Score(position)\n",
    "        \n",
    "        println(\" ==== t ==== \", t)\n",
    "        println(\"pos: \",  position)\n",
    "        println(\"vel: \", velocity)\n",
    "        println(\"sco: \", score[t])\n",
    "        println(\"grd: \", CalcGrad(position))\n",
    "        println()\n",
    "        \n",
    "        # \"integrate\" over the scores in the path of the particle\n",
    "        # only move in discrete steps, though\n",
    "        # will need to add leap-frog steps in discrete space later, though\n",
    "        \n",
    "        # strategy here will be to ALWAYS move in the direction of the maximum gradient,\n",
    "        # and then sometimes move in the other directions, randomly\n",
    "        move_prob = abs.(float.(CalcGrad(position)))\n",
    "        move_prob ./= maximum(move_prob)\n",
    "        move_accep = rand(length(velocity)) .<= move_prob\n",
    "        # update the position using the velocity - go in the direction of the velocity\n",
    "        position .+= sign.(velocity) .* move_accep\n",
    "        \n",
    "        # shrink the velocity by one in each dimension to simulate friction\n",
    "        velocity .-= CalcGrad(position) .* move_accep\n",
    "        t += 1\n",
    "    end\n",
    "end"
   ]
  },
  {
   "cell_type": "code",
   "execution_count": null,
   "id": "48584521-9e30-4517-afff-57ad3bb7b149",
   "metadata": {},
   "outputs": [],
   "source": [
    "# set the seed\n",
    "Random.seed!(100)\n",
    "# use tuple unpacking to get some test values\n",
    "# NumberOfSequences, LengthMotif, LengthSequences, Distance\n",
    "motif, motif_starts, motifs_implanted, sequences = GenerateTestData_ld(3, 14, 100, 0)"
   ]
  },
  {
   "cell_type": "code",
   "execution_count": null,
   "id": "91192017-1400-4a91-9acf-8f0178fc12d1",
   "metadata": {},
   "outputs": [],
   "source": [
    "Random.seed!(100)\n",
    "Roll([2,2,2], [3, 3, 3], 5)"
   ]
  },
  {
   "cell_type": "code",
   "execution_count": null,
   "id": "dcdade7e-5e3f-4129-9dd2-2eaf117f1b0e",
   "metadata": {},
   "outputs": [],
   "source": [
    "#BenchmarkTools.@btime Roll([54, 26, 6], [3, 3, 3], 20)"
   ]
  }
 ],
 "metadata": {
  "kernelspec": {
   "display_name": "Julia 1.8.0",
   "language": "julia",
   "name": "julia-1.8"
  },
  "language_info": {
   "file_extension": ".jl",
   "mimetype": "application/julia",
   "name": "julia",
   "version": "1.8.0"
  }
 },
 "nbformat": 4,
 "nbformat_minor": 5
}
