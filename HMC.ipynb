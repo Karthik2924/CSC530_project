{
 "cells": [
  {
   "cell_type": "code",
   "execution_count": null,
   "id": "e41cbb0b-bd85-4523-88a9-83ed1a2149b7",
   "metadata": {},
   "outputs": [],
   "source": [
    "import LinearAlgebra"
   ]
  },
  {
   "cell_type": "code",
   "execution_count": null,
   "id": "f79274a3-0204-4c1b-9bc0-7e8f5ce54ee7",
   "metadata": {},
   "outputs": [],
   "source": [
    "import Random"
   ]
  },
  {
   "cell_type": "code",
   "execution_count": null,
   "id": "36b48f8f-1f9b-4a82-99ff-2d62813572b6",
   "metadata": {},
   "outputs": [],
   "source": [
    "import BenchmarkTools"
   ]
  },
  {
   "cell_type": "code",
   "execution_count": null,
   "id": "870af20c-7548-438a-bad8-bc6f1be30a90",
   "metadata": {},
   "outputs": [],
   "source": [
    "import StaticArrays\n",
    "# details on staticarrays here https://m3g.github.io/JuliaNotes.jl/stable/immutable/"
   ]
  },
  {
   "cell_type": "code",
   "execution_count": null,
   "id": "9e71316a-a1c7-4b96-801a-ff3395764834",
   "metadata": {},
   "outputs": [],
   "source": [
    "import NBInclude"
   ]
  },
  {
   "cell_type": "code",
   "execution_count": null,
   "id": "a75ab199-f4c8-4b18-9fdc-3cde3f5d18bc",
   "metadata": {},
   "outputs": [],
   "source": [
    "import LinearAlgebra"
   ]
  },
  {
   "cell_type": "code",
   "execution_count": null,
   "id": "417399a9-cf7a-48c1-833b-0e4c6b600103",
   "metadata": {},
   "outputs": [],
   "source": [
    "# import the code from the l,d motif simulation notebook\n",
    "NBInclude.@nbinclude(\"simulate_ld_motif.ipynb\")"
   ]
  },
  {
   "cell_type": "markdown",
   "id": "fde9f6b0-d11e-46b3-9b4a-80e496e80acc",
   "metadata": {},
   "source": [
    "# try calculating something like a gradient\n",
    "which direction should we turn each dimension to increase the score?"
   ]
  },
  {
   "cell_type": "code",
   "execution_count": null,
   "id": "b59cb18c-af4c-4348-bff6-91a08e6a12ba",
   "metadata": {},
   "outputs": [],
   "source": [
    "# it is written in such a way that it is continuously defined\n",
    "function Score(Starts_inp, Seqs=sequences, Length=length(motif); ln=false)\n",
    "    # MODIFY the inputs if they are out of bounds :-)\n",
    "    ### TO DO: return a very large number of the starts are out of bounds\n",
    "    # in the mean time, just fix out of bounds errors\n",
    "    for i in 1:length(Starts_inp)\n",
    "        if (Starts_inp[i] < 1)\n",
    "            Starts_inp[i] = 1\n",
    "        elseif (Starts_inp[i] > (length(Seqs[1]) - Length + 1))\n",
    "            Starts_inp[i] = length(Seqs[1]) - Length + 1\n",
    "        end\n",
    "            \n",
    "    end\n",
    "    maxScore = Length * length(Seqs)\n",
    "        \n",
    "    seqsMatrix = permutedims(reduce(hcat, map((s, i) -> s[i:(i + Length - 1)], Seqs, Starts_inp)))\n",
    "    \n",
    "    # find the most common element in each column\n",
    "    mostCommon = mapslices(StatsBase.mode, seqsMatrix, dims = 1)\n",
    "    \n",
    "    # now count how many sequences are equal to the consensus\n",
    "    thisScore = sum(map((i, j) -> sum(i .== j), eachslice(seqsMatrix, dims = 2), mostCommon))\n",
    "    \n",
    "    if ln\n",
    "        return(-1 * log(maxScore - thisScore + 1))\n",
    "    else\n",
    "    # make the minimum (best) score 1\n",
    "        return(maxScore - thisScore + 1)\n",
    "    end\n",
    "end"
   ]
  },
  {
   "cell_type": "code",
   "execution_count": null,
   "id": "fb5091c0-da4e-4c98-984c-1d0403afae0c",
   "metadata": {},
   "outputs": [],
   "source": [
    "# calculate a partial score in the plus and minus direction\n",
    "# return positive if going in the positive direction increases the score\n",
    "# return negative if going in the negative direction increases the score\n",
    "# the value given is the sum score difference gained from going x-1 -> x -> x+1\n",
    "#### TO DO: deal with edges of the search space\n",
    "# https://www2.atmos.umd.edu/~ekalnay/syllabi/AOSC614/NWP-CH03-2-2.pdf\n",
    "function Grad(Starts_inp, seq, dt=1)\n",
    "    backward = copy(Starts_inp)\n",
    "    forward = copy(Starts_inp)\n",
    "    \n",
    "    backward[seq] -= dt\n",
    "    forward[seq] += dt\n",
    "    \n",
    "    #score1 = Score(Starts_inp) - Score(backward)\n",
    "    #score2 = Score(forward) - Score(Starts_inp)\n",
    "    return((Score(forward; ln = true) - Score(backward; ln = true))/(2*dt))\n",
    "end"
   ]
  },
  {
   "cell_type": "code",
   "execution_count": null,
   "id": "7a14de6c-bfcc-4165-bf9c-5aea729fcf7e",
   "metadata": {},
   "outputs": [],
   "source": [
    "function CalcGrad(StartsInp, dt=1)\n",
    "    return Grad.((StartsInp,), 1:length(StartsInp), (dt,))\n",
    "end"
   ]
  },
  {
   "cell_type": "code",
   "execution_count": null,
   "id": "e5b41f03-878c-427a-9864-71ab389edaaa",
   "metadata": {},
   "outputs": [],
   "source": [
    "function Grad2(Starts_inp, seq, dt=1)\n",
    "    backward = copy(Starts_inp)\n",
    "    forward = copy(Starts_inp)\n",
    "    \n",
    "    backward[seq] -= dt\n",
    "    forward[seq] += dt\n",
    "    \n",
    "    #score1 = Score(Starts_inp) - Score(backward)\n",
    "    #score2 = Score(forward) - Score(Starts_inp)\n",
    "    return(Score(forward; ln = true) - 2 * Score(Starts_inp; ln = true) + Score(backward; ln = true)/(dt^2))\n",
    "end"
   ]
  },
  {
   "cell_type": "code",
   "execution_count": null,
   "id": "63a0e118-7d13-4d61-a59c-3addb5673a7c",
   "metadata": {},
   "outputs": [],
   "source": [
    "function CalcGrad2(StartsInp, dt=1)\n",
    "    return Grad2.((StartsInp,), 1:length(StartsInp), (dt,))\n",
    "end"
   ]
  },
  {
   "cell_type": "markdown",
   "id": "cd9cdb9b-786b-4e71-a883-ddcd84ba780c",
   "metadata": {},
   "source": [
    "# hamiltonian eqs\n",
    "taken from wikipedia https://en.wikipedia.org/wiki/Hamiltonian_Monte_Carlo"
   ]
  },
  {
   "cell_type": "code",
   "execution_count": null,
   "id": "389885a6-2290-4a50-a678-f1cffec725b4",
   "metadata": {},
   "outputs": [],
   "source": [
    "function H(particle, velocity)\n",
    "    return(U(particle) + 1/2 * velocity' * inv(LinearAlgebra.I) * velocity)\n",
    "end"
   ]
  },
  {
   "cell_type": "code",
   "execution_count": null,
   "id": "b476f1a7-3b4a-48c7-9259-278b4094cfb6",
   "metadata": {},
   "outputs": [],
   "source": [
    "function U(particle)\n",
    "    return(-1 * log(Score(particle)))\n",
    "end"
   ]
  },
  {
   "cell_type": "code",
   "execution_count": null,
   "id": "b27b104f-88f2-4c96-a6c0-906c0dac7be6",
   "metadata": {},
   "outputs": [],
   "source": [
    "function leap(particle, velocity, dt, iter)\n",
    "    particle_sample = []\n",
    "    # initial particle position and velocity\n",
    "    xnt = copy(particle)\n",
    "    pnt = copy(velocity)\n",
    "    \n",
    "    # iterate for the number of time steps desired\n",
    "    # TODO: add stopping criterion\n",
    "    for t in 1:iter\n",
    "        # do the first half-step\n",
    "        # update the particles momentum by looking at the previous moments\n",
    "        # and adding half-ish the change in the potential energy\n",
    "        pn_t_dt2 = pnt .- (dt/2) .* CalcGrad(xnt, dt)\n",
    "        \n",
    "        # update the particle position after t time\n",
    "        # by using the new momentum, found in the previous half step\n",
    "        xn_t_dt = xnt .+ dt * inv(LinearAlgebra.I) * pn_t_dt2\n",
    "        # round this value to an integer, since our scorer only works\n",
    "        # on discrete values\n",
    "        ### TODO: add a bounds check here to prevent from going out of bounds\n",
    "        xn_t_dt = Int.(round.(xn_t_dt))\n",
    "        \n",
    "        # update the momentum again, this time by evaluating the gradient at the new point\n",
    "        pn_t_dt = pn_t_dt2 .- (dt/2) .* CalcGrad(xn_t_dt, dt)\n",
    "        \n",
    "        # do a metropolis-hastings step\n",
    "        \n",
    "        # compute the ratio of hamiltonian new/old like on the wiki page\n",
    "        rat = (exp(-1 * H(xn_t_dt, pn_t_dt)))/(exp(-1 * H(xnt, pnt)))\n",
    "        α = minimum([1, rat])\n",
    "        \n",
    "        # if our random number is less than alpha, accept the new proposal\n",
    "        if rand(1)[1] .< α\n",
    "            xnt = xn_t_dt\n",
    "            pnt = pn_t_dt\n",
    "            append!(particle_sample, (xnt,))\n",
    "        else\n",
    "            # otherwise, repeat the prior sample\n",
    "            append!(particle_sample, (xnt,))\n",
    "        end\n",
    "        \n",
    "        #### TODO:\n",
    "        # check if we are at a boundary. if so, reverse the sign of the velocity for that dimension\n",
    "        \n",
    "        \n",
    "        #=\n",
    "        # print to double check computation\n",
    "        println(\" t ==== \", t)\n",
    "        println(pn_t_dt2)\n",
    "        println(xn_t_dt)\n",
    "        println(pn_t_dt)\n",
    "        println(rat)\n",
    "        println()=#\n",
    "    end\n",
    "    return(particle_sample)\n",
    "end"
   ]
  },
  {
   "cell_type": "code",
   "execution_count": null,
   "id": "4b9e32f4-d5d7-44a9-8940-61f94923fa2f",
   "metadata": {},
   "outputs": [],
   "source": [
    "function Roll(Position, Velocity, tmax = 10)\n",
    "    # copy the inputs so we don't modify them on accident\n",
    "    position = copy(Position)\n",
    "    \n",
    "    velocity = copy(Velocity)\n",
    "    score = zeros(Int64, tmax)\n",
    "    # continue rolling until t > 10 or velocity is 0\n",
    "    t = 1\n",
    "    while (t <= tmax) & (any(velocity .!= 0))\n",
    "        # calculate the current score\n",
    "        score[t] = Score(position)\n",
    "        \n",
    "        println(\" ==== t ==== \", t)\n",
    "        println(\"pos: \",  position)\n",
    "        println(\"vel: \", velocity)\n",
    "        println(\"sco: \", score[t])\n",
    "        println(\"grd: \", CalcGrad(position))\n",
    "        println()\n",
    "        \n",
    "        # \"integrate\" over the scores in the path of the particle\n",
    "        # only move in discrete steps, though\n",
    "        # will need to add leap-frog steps in discrete space later, though\n",
    "        \n",
    "        # strategy here will be to ALWAYS move in the direction of the maximum gradient,\n",
    "        # and then sometimes move in the other directions, randomly\n",
    "        move_prob = abs.(float.(CalcGrad(position)))\n",
    "        move_prob ./= maximum(move_prob)\n",
    "        move_accep = rand(length(velocity)) .<= move_prob\n",
    "        # update the position using the velocity - go in the direction of the velocity\n",
    "        position .+= sign.(velocity) .* move_accep\n",
    "        \n",
    "        # shrink the velocity by one in each dimension to simulate friction\n",
    "        velocity .-= CalcGrad(position) .* move_accep\n",
    "        t += 1\n",
    "    end\n",
    "end"
   ]
  },
  {
   "cell_type": "code",
   "execution_count": null,
   "id": "48584521-9e30-4517-afff-57ad3bb7b149",
   "metadata": {},
   "outputs": [],
   "source": [
    "# set the seed\n",
    "Random.seed!(100)\n",
    "# use tuple unpacking to get some test values\n",
    "# NumberOfSequences, LengthMotif, LengthSequences, Distance\n",
    "motif, motif_starts, motifs_implanted, sequences = GenerateTestData_ld(3, 14, 100, 0)"
   ]
  },
  {
   "cell_type": "code",
   "execution_count": null,
   "id": "91192017-1400-4a91-9acf-8f0178fc12d1",
   "metadata": {},
   "outputs": [],
   "source": [
    "Random.seed!(100)\n",
    "Roll([2,2,2], [3, 3, 3], 5)"
   ]
  },
  {
   "cell_type": "code",
   "execution_count": null,
   "id": "dcdade7e-5e3f-4129-9dd2-2eaf117f1b0e",
   "metadata": {},
   "outputs": [],
   "source": [
    "#BenchmarkTools.@btime Roll([54, 26, 6], [3, 3, 3], 20)"
   ]
  },
  {
   "cell_type": "code",
   "execution_count": null,
   "id": "655d6a63-4f74-4c70-b2f9-5d7058c89d45",
   "metadata": {},
   "outputs": [],
   "source": [
    "# set the seed\n",
    "Random.seed!(100)\n",
    "# use tuple unpacking to get some test values\n",
    "# NumberOfSequences, LengthMotif, LengthSequences, Distance\n",
    "motif, motif_starts, motifs_implanted, sequences = GenerateTestData_ld(6, 14, 1000, 0)"
   ]
  },
  {
   "cell_type": "code",
   "execution_count": null,
   "id": "b5fbd8cc-0fc3-4424-850e-63c0aed3db84",
   "metadata": {},
   "outputs": [],
   "source": [
    "leap(repeat([500], length(sequences)), repeat([1], length(sequences)), 1, 200)"
   ]
  },
  {
   "cell_type": "code",
   "execution_count": null,
   "id": "dc39d768-5463-4c26-81bf-1876e9ba3853",
   "metadata": {},
   "outputs": [],
   "source": [
    "BenchmarkTools.@btime leap(repeat([500], length(sequences)), repeat([1], length(sequences)), 1, 100)"
   ]
  }
 ],
 "metadata": {
  "kernelspec": {
   "display_name": "Julia 1.8.0",
   "language": "julia",
   "name": "julia-1.8"
  },
  "language_info": {
   "file_extension": ".jl",
   "mimetype": "application/julia",
   "name": "julia",
   "version": "1.8.0"
  }
 },
 "nbformat": 4,
 "nbformat_minor": 5
}
