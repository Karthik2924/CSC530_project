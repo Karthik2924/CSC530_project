{
 "cells": [
  {
   "cell_type": "code",
   "execution_count": 247,
   "id": "e36f5642",
   "metadata": {},
   "outputs": [],
   "source": [
    "import LinearAlgebra\n",
    "import Random\n",
    "import BenchmarkTools\n",
    "import StaticArrays\n",
    "import NBInclude\n",
    "import LinearAlgebra\n",
    "import Distributions\n",
    "import StatsBase\n",
    "import Profile\n",
    "import StatProfilerHTML\n",
    "using StatsBase\n",
    "using Random"
   ]
  },
  {
   "cell_type": "code",
   "execution_count": 2,
   "id": "5421e7dc",
   "metadata": {},
   "outputs": [
    {
     "data": {
      "text/plain": [
       "GenerateSequence (generic function with 1 method)"
      ]
     },
     "execution_count": 2,
     "metadata": {},
     "output_type": "execute_result"
    }
   ],
   "source": [
    "function GenerateSequence(Length)\n",
    "    return collect(Random.randstring(\"ACGT\", Length))\n",
    "end"
   ]
  },
  {
   "cell_type": "code",
   "execution_count": 4,
   "id": "7277a5af",
   "metadata": {},
   "outputs": [
    {
     "data": {
      "text/plain": [
       "10-element Vector{Char}:\n",
       " 'G': ASCII/Unicode U+0047 (category Lu: Letter, uppercase)\n",
       " 'A': ASCII/Unicode U+0041 (category Lu: Letter, uppercase)\n",
       " 'T': ASCII/Unicode U+0054 (category Lu: Letter, uppercase)\n",
       " 'A': ASCII/Unicode U+0041 (category Lu: Letter, uppercase)\n",
       " 'T': ASCII/Unicode U+0054 (category Lu: Letter, uppercase)\n",
       " 'T': ASCII/Unicode U+0054 (category Lu: Letter, uppercase)\n",
       " 'T': ASCII/Unicode U+0054 (category Lu: Letter, uppercase)\n",
       " 'C': ASCII/Unicode U+0043 (category Lu: Letter, uppercase)\n",
       " 'G': ASCII/Unicode U+0047 (category Lu: Letter, uppercase)\n",
       " 'A': ASCII/Unicode U+0041 (category Lu: Letter, uppercase)"
      ]
     },
     "execution_count": 4,
     "metadata": {},
     "output_type": "execute_result"
    }
   ],
   "source": [
    "a=GenerateSequence(10)"
   ]
  },
  {
   "cell_type": "code",
   "execution_count": 6,
   "id": "4e6553e4",
   "metadata": {},
   "outputs": [
    {
     "data": {
      "text/plain": [
       "GenerateSequences (generic function with 1 method)"
      ]
     },
     "execution_count": 6,
     "metadata": {},
     "output_type": "execute_result"
    }
   ],
   "source": [
    "# create a vector of vector{chars}, each with the same length\n",
    "function GenerateSequences(NumberOfSequences, Length)\n",
    "    return Sequences = map(i -> GenerateSequence(Length), 1:NumberOfSequences)\n",
    "end"
   ]
  },
  {
   "cell_type": "code",
   "execution_count": 31,
   "id": "9843fd5a",
   "metadata": {},
   "outputs": [
    {
     "data": {
      "text/plain": [
       "10-element Vector{Vector{Char}}:\n",
       " ['G', 'C', 'T', 'G', 'G', 'C', 'G', 'G', 'G', 'A']\n",
       " ['A', 'T', 'T', 'T', 'C', 'G', 'T', 'C', 'G', 'T']\n",
       " ['A', 'G', 'C', 'C', 'G', 'C', 'T', 'A', 'G', 'G']\n",
       " ['G', 'T', 'T', 'A', 'G', 'C', 'G', 'T', 'C', 'T']\n",
       " ['G', 'G', 'A', 'G', 'T', 'C', 'A', 'G', 'A', 'G']\n",
       " ['C', 'G', 'G', 'T', 'T', 'T', 'A', 'T', 'G', 'T']\n",
       " ['A', 'A', 'G', 'T', 'G', 'A', 'T', 'T', 'C', 'T']\n",
       " ['T', 'G', 'C', 'G', 'T', 'T', 'T', 'G', 'G', 'C']\n",
       " ['C', 'A', 'G', 'A', 'G', 'T', 'T', 'G', 'C', 'T']\n",
       " ['T', 'T', 'G', 'C', 'A', 'A', 'G', 'T', 'T', 'G']"
      ]
     },
     "execution_count": 31,
     "metadata": {},
     "output_type": "execute_result"
    }
   ],
   "source": [
    "seq = GenerateSequences(10,10)"
   ]
  },
  {
   "cell_type": "code",
   "execution_count": 7,
   "id": "1ca9ed0b",
   "metadata": {},
   "outputs": [
    {
     "data": {
      "text/plain": [
       "Mutate! (generic function with 1 method)"
      ]
     },
     "execution_count": 7,
     "metadata": {},
     "output_type": "execute_result"
    }
   ],
   "source": [
    "function Mutate!(Sequence, Distance) # distance is no. of mutations\n",
    "    # return the sequence if the Distance is 0\n",
    "    if Distance == 0\n",
    "        return Sequence\n",
    "    end\n",
    "    # choose the sites to mutate\n",
    "    posToMutate = StatsBase.sample(1:length(Sequence), Distance, replace = false)\n",
    "    \n",
    "    # pick the letters that can be used at each position\n",
    "    basesAtPositions = [string(i) for i in Sequence[posToMutate]]\n",
    "\n",
    "    lettersToFill = [\"ACGT\" for i in 1:length(Sequence)]\n",
    "    \n",
    "    # figure out what letters each positions can be changed to\n",
    "    lettersToFill = map((x, y) -> replace(x, y => \"\"), lettersToFill, basesAtPositions)\n",
    "    \n",
    "    # select one character from each of these positions and place them where they should be\n",
    "    # use only to cast the string to a character\n",
    "    # https://stackoverflow.com/questions/59946081/julia-convert-string-to-char-or-convert-arraysubstringstring-1-to-char\n",
    "    Sequence[posToMutate] = map(x -> only(Random.randstring(x, 1)), lettersToFill)\n",
    "    \n",
    "    return Sequence\n",
    "end"
   ]
  },
  {
   "cell_type": "code",
   "execution_count": 32,
   "id": "f18e853b",
   "metadata": {},
   "outputs": [
    {
     "data": {
      "text/plain": [
       "10-element Vector{Char}:\n",
       " 'G': ASCII/Unicode U+0047 (category Lu: Letter, uppercase)\n",
       " 'C': ASCII/Unicode U+0043 (category Lu: Letter, uppercase)\n",
       " 'T': ASCII/Unicode U+0054 (category Lu: Letter, uppercase)\n",
       " 'C': ASCII/Unicode U+0043 (category Lu: Letter, uppercase)\n",
       " 'G': ASCII/Unicode U+0047 (category Lu: Letter, uppercase)\n",
       " 'C': ASCII/Unicode U+0043 (category Lu: Letter, uppercase)\n",
       " 'G': ASCII/Unicode U+0047 (category Lu: Letter, uppercase)\n",
       " 'G': ASCII/Unicode U+0047 (category Lu: Letter, uppercase)\n",
       " 'C': ASCII/Unicode U+0043 (category Lu: Letter, uppercase)\n",
       " 'A': ASCII/Unicode U+0041 (category Lu: Letter, uppercase)"
      ]
     },
     "execution_count": 32,
     "metadata": {},
     "output_type": "execute_result"
    }
   ],
   "source": [
    "mseq1 = Mutate!(seq[1],2) ## ! is used so it happens inplace, seq[1] is changed"
   ]
  },
  {
   "cell_type": "code",
   "execution_count": 34,
   "id": "bc4c424f",
   "metadata": {},
   "outputs": [
    {
     "data": {
      "text/plain": [
       "GenerateTestData_ld (generic function with 1 method)"
      ]
     },
     "execution_count": 34,
     "metadata": {},
     "output_type": "execute_result"
    }
   ],
   "source": [
    "# generate test data\n",
    "# distance is the number of mutations in each implanted motif\n",
    "function GenerateTestData_ld(NumberOfSequences, LengthMotif, LengthSequences, Distance)\n",
    "    # do some error checking to make sure the values provided are valid\n",
    "    # specifically, Disance <= LengthMotif\n",
    "    if Distance > LengthMotif\n",
    "        error(\"The Distance if larger than the LengthMotif.\")\n",
    "    end\n",
    "\n",
    "    # LengthMotif <= LengthSequences\n",
    "    if LengthMotif > LengthSequences\n",
    "        error(\"The LengthMotif is longer than the LengthSequences\")\n",
    "    end\n",
    "    \n",
    "    # NumberOfSequences >= 2\n",
    "    if NumberOfSequences <= 1\n",
    "        error(\"The NumberOfSequences is 1, which is too small for motif detection\")\n",
    "    end\n",
    "\n",
    "    # generate the input sequences\n",
    "    sequences = GenerateSequences(NumberOfSequences, LengthSequences)\n",
    "    \n",
    "    # make the motif\n",
    "    motif = GenerateSequence(LengthMotif)\n",
    "    \n",
    "    # generate a mutated motif for each sequence to implant\n",
    "    motifs = [copy(motif) for i in 1:NumberOfSequences]\n",
    "    \n",
    "    # broadcast the mutated motif\n",
    "    motifs .= Mutate!.(motifs, Distance)\n",
    "    \n",
    "    # now implant the mutated motifs and record where we implant it\n",
    "    motifStarts = rand(1:(LengthSequences - LengthMotif + 1), NumberOfSequences)\n",
    "    \n",
    "    # now place the motifs into the sequences vector\n",
    "    for i in 1:length(sequences)\n",
    "        sequences[i][motifStarts[i]:(motifStarts[i] + LengthMotif - 1)] = motifs[i]\n",
    "    end\n",
    "    \n",
    "    # now return all the things we may want later\n",
    "    return (motif = motif, motifs_starts = motifStarts, motifs_implanted = motifs, sequences = sequences)\n",
    "end"
   ]
  },
  {
   "cell_type": "code",
   "execution_count": 269,
   "id": "fe2fd6fc",
   "metadata": {},
   "outputs": [
    {
     "data": {
      "text/plain": [
       "(motif = ['C', 'G', 'T', 'C', 'G', 'C'], motifs_starts = [13, 8, 3, 6, 9, 14, 2, 3, 7, 5], motifs_implanted = [['C', 'A', 'T', 'C', 'G', 'A'], ['C', 'G', 'C', 'G', 'G', 'C'], ['C', 'T', 'T', 'G', 'G', 'C'], ['C', 'G', 'G', 'C', 'G', 'T'], ['C', 'G', 'A', 'A', 'G', 'C'], ['T', 'G', 'T', 'C', 'G', 'T'], ['C', 'T', 'A', 'C', 'G', 'C'], ['A', 'G', 'T', 'T', 'G', 'C'], ['C', 'T', 'T', 'C', 'G', 'A'], ['C', 'G', 'A', 'C', 'G', 'A']], sequences = [['C', 'A', 'G', 'T', 'T', 'C', 'C', 'A', 'A', 'T', 'G', 'T', 'C', 'A', 'T', 'C', 'G', 'A', 'A', 'C'], ['C', 'C', 'T', 'C', 'G', 'G', 'T', 'C', 'G', 'C', 'G', 'G', 'C', 'T', 'G', 'G', 'G', 'C', 'G', 'T'], ['G', 'T', 'C', 'T', 'T', 'G', 'G', 'C', 'T', 'A', 'G', 'A', 'T', 'C', 'C', 'T', 'G', 'A', 'G', 'A'], ['C', 'A', 'G', 'G', 'T', 'C', 'G', 'G', 'C', 'G', 'T', 'C', 'T', 'A', 'C', 'C', 'G', 'C', 'G', 'A'], ['T', 'A', 'C', 'G', 'C', 'C', 'C', 'T', 'C', 'G', 'A', 'A', 'G', 'C', 'A', 'T', 'G', 'G', 'A', 'A'], ['C', 'C', 'A', 'G', 'A', 'A', 'A', 'G', 'T', 'G', 'C', 'G', 'T', 'T', 'G', 'T', 'C', 'G', 'T', 'A'], ['C', 'C', 'T', 'A', 'C', 'G', 'C', 'A', 'C', 'A', 'C', 'A', 'C', 'T', 'T', 'T', 'T', 'T', 'T', 'C'], ['T', 'A', 'A', 'G', 'T', 'T', 'G', 'C', 'G', 'G', 'C', 'G', 'T', 'T', 'T', 'C', 'A', 'G', 'A', 'C'], ['C', 'T', 'G', 'G', 'C', 'C', 'C', 'T', 'T', 'C', 'G', 'A', 'G', 'T', 'A', 'T', 'G', 'G', 'A', 'T'], ['A', 'G', 'A', 'G', 'C', 'G', 'A', 'C', 'G', 'A', 'T', 'T', 'C', 'G', 'T', 'A', 'A', 'C', 'G', 'A']])"
      ]
     },
     "execution_count": 269,
     "metadata": {},
     "output_type": "execute_result"
    }
   ],
   "source": [
    "motif, motif_starts, motifs_implanted, sequences = GenerateTestData_ld(10,6,20,2)"
   ]
  },
  {
   "cell_type": "markdown",
   "id": "72767ef9",
   "metadata": {},
   "source": []
  },
  {
   "cell_type": "code",
   "execution_count": 52,
   "id": "8967815e",
   "metadata": {},
   "outputs": [
    {
     "data": {
      "text/plain": [
       "Score (generic function with 3 methods)"
      ]
     },
     "execution_count": 52,
     "metadata": {},
     "output_type": "execute_result"
    }
   ],
   "source": [
    "# it is written in such a way that it is continuously defined\n",
    "function Score(Starts_inp, Length=length(motif), Seqs=sequences; ln=false)\n",
    "    maxScore = Length * length(Seqs)\n",
    "    # MODIFY the inputs if they are out of bounds :-)\n",
    "    ### TO DO: return a very large number of the starts are out of bounds\n",
    "    if @inbounds (minimum(Starts_inp) < 1) | (maximum(Starts_inp) > (length(Seqs[1]) - Length + 1))\n",
    "        return(maxScore)\n",
    "    end\n",
    "    # in the mean time, just fix out of bounds errors\n",
    "    \n",
    "    # generate the character matrix\n",
    "    # then store the results inside of it\n",
    "    #@inbounds @views seqsMatrix = mapreduce(permutedims, vcat, map((s, i) -> s[i:(i + Length - 1)], Seqs, Starts_inp))\n",
    "    @inbounds seqsMatrix = mapreduce(permutedims, vcat, map((s, i) -> s[i:(i + Length - 1)], Seqs, Starts_inp))\n",
    "    #print(seqsMatrix)\n",
    "    # allocate an array for the most common values in each column\n",
    "    @inbounds mostCommon = Array{Char}(undef, size(seqsMatrix, 2))\n",
    "    thisScore = 0\n",
    "   \n",
    "    # find the most common element in each column \n",
    "    for i in 1:size(seqsMatrix, 2)\n",
    "        A = count(x -> x == 'A', @views @inbounds seqsMatrix[:,i])\n",
    "        C = count(x -> x == 'C', @views @inbounds seqsMatrix[:,i])\n",
    "        G = count(x -> x == 'G', @views @inbounds seqsMatrix[:,i])\n",
    "        T = count(x -> x == 'T', @views @inbounds seqsMatrix[:,i])\n",
    "        \n",
    "        char_max = max(A, C, G, T)\n",
    "        thisScore += char_max\n",
    "        \n",
    "        if char_max == A\n",
    "            @inbounds mostCommon[i] = 'A'\n",
    "        elseif char_max == C\n",
    "            @inbounds mostCommon[i] = 'C'\n",
    "        elseif char_max == G\n",
    "            @inbounds mostCommon[i] = 'G'\n",
    "        else\n",
    "            @inbounds mostCommon[i] = 'T'\n",
    "        end     \n",
    "    end\n",
    "\n",
    "    if ln\n",
    "        return(-1 * log(maxScore - thisScore + 1))\n",
    "    else\n",
    "    # make the minimum (best) score 1 so we can compute the log\n",
    "        return(maxScore - thisScore + 1)\n",
    "    end\n",
    "end"
   ]
  },
  {
   "cell_type": "code",
   "execution_count": 66,
   "id": "e2c180ec",
   "metadata": {},
   "outputs": [
    {
     "data": {
      "text/plain": [
       "ConsensusMotif (generic function with 3 methods)"
      ]
     },
     "execution_count": 66,
     "metadata": {},
     "output_type": "execute_result"
    }
   ],
   "source": [
    "# it is written in such a way that it is continuously defined\n",
    "function ConsensusMotif(Starts_inp, Length=length(motif), Seqs=sequences; ln=false)\n",
    "    \n",
    "    # generate the character matrix\n",
    "    # then store the results inside of it\n",
    "    #@inbounds @views seqsMatrix = mapreduce(permutedims, vcat, map((s, i) -> s[i:(i + Length - 1)], Seqs, Starts_inp))\n",
    "    @inbounds seqsMatrix = mapreduce(permutedims, vcat, map((s, i) -> s[i:(i + Length - 1)], Seqs, Starts_inp))\n",
    "    \n",
    "    # allocate an array for the most common values in each column\n",
    "    @inbounds mostCommon = Array{Char}(undef, size(seqsMatrix, 2))\n",
    "    thisScore = 0\n",
    "   \n",
    "    # find the most common element in each column \n",
    "    for i in 1:size(seqsMatrix, 2)\n",
    "        A = count(x -> x == 'A', @views @inbounds seqsMatrix[:,i])\n",
    "        C = count(x -> x == 'C', @views @inbounds seqsMatrix[:,i])\n",
    "        G = count(x -> x == 'G', @views @inbounds seqsMatrix[:,i])\n",
    "        T = count(x -> x == 'T', @views @inbounds seqsMatrix[:,i])\n",
    "        \n",
    "        char_max = max(A, C, G, T)\n",
    "        thisScore += char_max\n",
    "        \n",
    "        if char_max == A\n",
    "            @inbounds mostCommon[i] = 'A'\n",
    "        elseif char_max == C\n",
    "            @inbounds mostCommon[i] = 'C'\n",
    "        elseif char_max == G\n",
    "            @inbounds mostCommon[i] = 'G'\n",
    "        else\n",
    "            @inbounds mostCommon[i] = 'T'\n",
    "        end     \n",
    "    end\n",
    "    \n",
    "    return(mostCommon)\n",
    "end"
   ]
  },
  {
   "cell_type": "code",
   "execution_count": 67,
   "id": "ee3035b0",
   "metadata": {},
   "outputs": [
    {
     "data": {
      "text/plain": [
       "6-element Vector{Char}:\n",
       " 'G': ASCII/Unicode U+0047 (category Lu: Letter, uppercase)\n",
       " 'G': ASCII/Unicode U+0047 (category Lu: Letter, uppercase)\n",
       " 'C': ASCII/Unicode U+0043 (category Lu: Letter, uppercase)\n",
       " 'C': ASCII/Unicode U+0043 (category Lu: Letter, uppercase)\n",
       " 'T': ASCII/Unicode U+0054 (category Lu: Letter, uppercase)\n",
       " 'G': ASCII/Unicode U+0047 (category Lu: Letter, uppercase)"
      ]
     },
     "execution_count": 67,
     "metadata": {},
     "output_type": "execute_result"
    }
   ],
   "source": [
    "ConsensusMotif(motif_starts,length(motif),sequences)"
   ]
  },
  {
   "cell_type": "code",
   "execution_count": 68,
   "id": "5472370f",
   "metadata": {},
   "outputs": [
    {
     "data": {
      "text/plain": [
       "H (generic function with 1 method)"
      ]
     },
     "execution_count": 68,
     "metadata": {},
     "output_type": "execute_result"
    }
   ],
   "source": [
    "function H(particle, velocity, k, Seqs)\n",
    "    return(U(particle, k, Seqs) + 1/2 * velocity' * inv(LinearAlgebra.I) * velocity)\n",
    "end"
   ]
  },
  {
   "cell_type": "code",
   "execution_count": 75,
   "id": "3f8aab17",
   "metadata": {},
   "outputs": [
    {
     "data": {
      "text/plain": [
       "'C': ASCII/Unicode U+0043 (category Lu: Letter, uppercase)"
      ]
     },
     "execution_count": 75,
     "metadata": {},
     "output_type": "execute_result"
    }
   ],
   "source": [
    "sequences[1][20]"
   ]
  },
  {
   "cell_type": "markdown",
   "id": "0013b4af",
   "metadata": {},
   "source": [
    "# PSO"
   ]
  },
  {
   "cell_type": "code",
   "execution_count": 86,
   "id": "633925c2",
   "metadata": {},
   "outputs": [
    {
     "data": {
      "text/plain": [
       "5-element Vector{Int64}:\n",
       " 1\n",
       " 5\n",
       " 4\n",
       " 9\n",
       " 2"
      ]
     },
     "execution_count": 86,
     "metadata": {},
     "output_type": "execute_result"
    }
   ],
   "source": [
    "sample(1:14,5,replace = false)"
   ]
  },
  {
   "cell_type": "code",
   "execution_count": 103,
   "id": "2763463a",
   "metadata": {},
   "outputs": [
    {
     "data": {
      "text/plain": [
       "Dict{Char, Int64} with 4 entries:\n",
       "  'A' => 1\n",
       "  'G' => 4\n",
       "  'T' => 1\n",
       "  'C' => 4"
      ]
     },
     "execution_count": 103,
     "metadata": {},
     "output_type": "execute_result"
    }
   ],
   "source": [
    "countmap(seq[1])"
   ]
  },
  {
   "cell_type": "code",
   "execution_count": 375,
   "id": "94da59a2",
   "metadata": {},
   "outputs": [
    {
     "data": {
      "text/plain": [
       "consensus_score (generic function with 1 method)"
      ]
     },
     "execution_count": 375,
     "metadata": {},
     "output_type": "execute_result"
    }
   ],
   "source": [
    "function make_profile(k,t,arr,pseudo_counts) \n",
    "   \n",
    "\"\"\"\n",
    "k : length of motifs\n",
    "t : number of sequences\n",
    "arr: motifs\n",
    "returns the profile probabilities for the given inputs\n",
    "    normalized frequencies\n",
    "A\n",
    "C\n",
    "G\n",
    "T\n",
    "    \n",
    "\"\"\"\n",
    "    res = zeros(4,k)\n",
    "    if pseudo_counts==false\n",
    "        for i in 1:k\n",
    "            c = Dict('A'=>0,'C'=>0,'G'=>0,'T'=>0)\n",
    "            for j in 1:t\n",
    "                c[arr[j][i]]+=1\n",
    "            end\n",
    "            res[1,i] = c['A']/t\n",
    "            res[2,i] = c['C']/t\n",
    "            res[3,i] = c['G']/t\n",
    "            res[4,i] = c['T']/t\n",
    "\n",
    "        end\n",
    "    else\n",
    "        for i in 1:k\n",
    "            c = Dict('A'=>0,'C'=>0,'G'=>0,'T'=>0)\n",
    "            for j in 1:t\n",
    "                c[arr[j][i]]+=1\n",
    "            end\n",
    "            res[1,i] = (c['A']+1)/(4+t)\n",
    "            res[2,i] = (c['C']+1)/(4+t)\n",
    "            res[3,i] = (c['G']+1)/(4+t)\n",
    "            res[4,i] = (c['T']+1)/(4+t)\n",
    "\n",
    "        end\n",
    "    end\n",
    "    return res\n",
    "end\n",
    "function background_frequency(sequence)\n",
    "    return count_map(sequence)\n",
    "end\n",
    "\n",
    "function new_score(seq,motif,background_frequency)\n",
    "    \n",
    "    l = length(seq)\n",
    "    s = 0\n",
    "    for i in 1:l\n",
    "        if seq[i] == motif[i]\n",
    "            s += (1 + log(4,(0.25/background_frequency[seq[i]])))\n",
    "        else\n",
    "            s += log(4,(sqrt(background_frequency[seq[i]]*background_frequency[motif[i]])))\n",
    "        end\n",
    "    end\n",
    "    return s\n",
    "end\n",
    "\n",
    "function get_index(c)\n",
    "    d = Dict('A'=>1,'C'=>2,'G'=>3,'T'=>4)\n",
    "    return d[c]\n",
    "end\n",
    "\n",
    "function consensus_score(motifs,background_frequency,nseq) #information content,\n",
    "\"\"\"\n",
    "motifs: obtained motifs for all sequences\n",
    "background_frequency of all sequences\n",
    "nseq: no.of sequences\n",
    "\"\"\"\n",
    "    int_char = Dict(1=>'A',2=>'C',3=>'G',4=>'T')\n",
    "    l = length(motifs[1])\n",
    "    profile = make_profile(l,nseq,motifs,0)\n",
    "    cmotif = repeat(['A'],l)\n",
    "    #in case of ties it sticks to the earlier character in the sequence, \n",
    "    #maybe change that to based on background frequency and generate\n",
    "    #consensus motif using entropy directly\n",
    "    for i in 1:l\n",
    "        m=profile[1,i]\n",
    "        for j in 2:4\n",
    "            if profile[j,i]>m\n",
    "                m = profile[j,i]\n",
    "                cmotif[i] = int_char[j]\n",
    "            end\n",
    "        end\n",
    "    end\n",
    "            \n",
    "    #print(profile)\n",
    "    s = 0\n",
    "    for i in 1:nseq\n",
    "        for j in 1:l\n",
    "            c = motifs[i][j]\n",
    "            ind = get_index(c)\n",
    "            #print(background_frequency[i])\n",
    "            s += ((profile[ind,j]*log2(profile[ind,j]))/get(background_frequency[i],c,1))#default value of count map = 1, not 0 to avoid 0 probabilities.\n",
    "        end\n",
    "    end\n",
    "    return s,cmotif\n",
    "end"
   ]
  },
  {
   "cell_type": "code",
   "execution_count": 217,
   "id": "2d6dc9ad",
   "metadata": {},
   "outputs": [
    {
     "data": {
      "text/plain": [
       "best_match (generic function with 1 method)"
      ]
     },
     "execution_count": 217,
     "metadata": {},
     "output_type": "execute_result"
    }
   ],
   "source": [
    "function best_match(seq,motif)\n",
    "# To do: make it effecient, countmap is passed for every iteration,run iteration in new_score function?\n",
    "    l = length(seq)\n",
    "    k = length(motif)\n",
    "    d = countmap(seq)\n",
    "    best_score = 0\n",
    "    #motif = seq[motif_pos:motif_pos+k-1]\n",
    "    for i in l-k+1\n",
    "        s = new_score(seq[i:k],motif,d)\n",
    "        if s>best_score\n",
    "            best_score = s\n",
    "        end\n",
    "    end\n",
    "    return best_score\n",
    "        \n",
    "end"
   ]
  },
  {
   "cell_type": "code",
   "execution_count": 340,
   "id": "73a9f469",
   "metadata": {},
   "outputs": [
    {
     "data": {
      "text/plain": [
       "update (generic function with 1 method)"
      ]
     },
     "execution_count": 340,
     "metadata": {},
     "output_type": "execute_result"
    }
   ],
   "source": [
    "function update(current,pbest,gbest,c,w)\n",
    "    \n",
    "    #check if current,pbest,gbest are \n",
    "    #independent of the character they are representing \n",
    "    #or if they need to be added if the character is same\n",
    "    # c is 4 element vector, has weights for current,pbest,gbest and random\n",
    "    x4 = randstring(['A','C','G','T'],1)[1]\n",
    "    score = Dict('A'=>0.0,'C'=>0.0,'G'=>0.0,'T'=>0.0)\n",
    "    #print(score)\n",
    "    score[current] += c[1]*(rand(1:10)/10)*w[current]\n",
    "    score[pbest] += c[2]*(rand(1:10)/10)*w[pbest]\n",
    "    score[gbest] += c[3]*(rand(1:10)/10)*w[gbest]\n",
    "    score[x4] += c[4]*(rand(1:10)/10)*w[x4]\n",
    "    max_score_char = reduce((x, y) -> score[x] >= score[y] ? x : y, keys(d))\n",
    "    #print(score)\n",
    "    return max_score_char\n",
    "end\n",
    "\n",
    "    "
   ]
  },
  {
   "cell_type": "code",
   "execution_count": 233,
   "id": "671864c5",
   "metadata": {},
   "outputs": [
    {
     "data": {
      "text/plain": [
       "weights (generic function with 1 method)"
      ]
     },
     "execution_count": 233,
     "metadata": {},
     "output_type": "execute_result"
    }
   ],
   "source": [
    "function weights(background_frequency)\n",
    "    ma = max(1/background_frequency['A'],1/background_frequency['C'],\n",
    "        1/background_frequency['G'],1/background_frequency['T'])\n",
    "#     mi = mi(1/background_frequency['A'],1/background_frequency['C'],\n",
    "#         1/background_frequency['G'],1/background_frequency['T'])\n",
    "    d = Dict()\n",
    "#     d['A'] = (1/background_frequency['A']-mi)/(ma - mi)\n",
    "#     d['C'] = (1/background_frequency['C']-mi)/(ma - mi)\n",
    "#     d['G'] = (1/background_frequency['G']-mi)/(ma - mi)\n",
    "#     d['T'] = (1/background_frequency['T']-mi)/(ma - mi)\n",
    "    \n",
    "    d['A'] = (1/background_frequency['A'])/ma\n",
    "    d['C'] = (1/background_frequency['C'])/ma\n",
    "    d['G'] = (1/background_frequency['G'])/ma\n",
    "    d['T'] = (1/background_frequency['T'])/ma\n",
    "    return d\n",
    "end"
   ]
  },
  {
   "cell_type": "code",
   "execution_count": 235,
   "id": "c955c162",
   "metadata": {},
   "outputs": [
    {
     "data": {
      "text/plain": [
       "0.2"
      ]
     },
     "execution_count": 235,
     "metadata": {},
     "output_type": "execute_result"
    }
   ],
   "source": [
    "rand(1:10)/10"
   ]
  },
  {
   "cell_type": "code",
   "execution_count": 373,
   "id": "15eef2ce",
   "metadata": {},
   "outputs": [
    {
     "data": {
      "text/plain": [
       "pso_motif (generic function with 1 method)"
      ]
     },
     "execution_count": 373,
     "metadata": {},
     "output_type": "execute_result"
    }
   ],
   "source": [
    "function pso_motif(sequences,motiflen,max_reset,max_iteration,nparticles)\n",
    "    fitness = -Inf16\n",
    "    final_motif = []\n",
    "    c=[1,1,1,1]\n",
    "    w = weights(countmap(sequences[1]))\n",
    "    \n",
    "    for i in 1:max_reset\n",
    "        \n",
    "        #1:length(sequences)-length(motifs)+1 should be greater than nparticles\n",
    "        particle_pos = sample(1:length(sequences[1])-motiflen+1,nparticles,replace = false)\n",
    "        print(particle_pos)\n",
    "        fitness_pbest = repeat([-Inf16],nparticles)\n",
    "        fitness_gbest = -Inf16\n",
    "        #fitness_gbest = repeat([-Inf16],nparticles)\n",
    "        pbest = []\n",
    "        gbest = []\n",
    "        motif = []\n",
    "        for j in 1:max_iteration\n",
    "            for k in 1:nparticles\n",
    "                pscore = 0\n",
    "                if j==1\n",
    "                    starting_seq_index = 2\n",
    "                    push!(motif,sequences[1][particle_pos[k]: particle_pos[k]+motiflen-1])\n",
    "                    #motif = sequences[1 : particle_pos[k]: length(sequences[1]) - motiflen + 1]#generate motif from first sequence\n",
    "                else\n",
    "                    starting_seq_index = 1\n",
    "                end\n",
    "                for a in starting_seq_index:length(sequences)#check on all the other sequences\n",
    "                    pscore += best_match(sequences[a],motif[k])\n",
    "                end\n",
    "                #print(pscore,fitness_pbest)\n",
    "                if pscore > fitness_pbest[k]\n",
    "                    fitness_pbest[k] = pscore\n",
    "                    pbest = motif[k]\n",
    "                end\n",
    "                if pscore > fitness_gbest\n",
    "                    fitness_gbest = pscore\n",
    "                    gbest = motif[k]\n",
    "                end\n",
    "                \n",
    "            end\n",
    "            # Add check shift, can use hmc here\n",
    "            #update rule\n",
    "            #optimize ci and wi\n",
    "            #print(motif)\n",
    "            for n in 1:nparticles\n",
    "                for x in 1:motiflen\n",
    "                    motif[n][x] = update(sequences[1][particle_pos[n]+x-1],pbest[x],gbest[x],c,w)\n",
    "                end\n",
    "            end\n",
    "        end\n",
    "        print(motif)\n",
    "        #cscore,cmotif = consensus_score(motif,[countmap(i) for i in sequences],length(sequences),nparticles)\n",
    "        cscore,cmotif = consensus_score(motif,[countmap(i) for i in sequences],nparticles)\n",
    "\n",
    "        if cscore>fitness\n",
    "            fitness = cscore\n",
    "            final_motif = cmotif\n",
    "        end\n",
    "\n",
    "        \n",
    "    end\n",
    "\n",
    "    return motif,fitness\n",
    "end\n"
   ]
  },
  {
   "cell_type": "code",
   "execution_count": null,
   "id": "4fa9bb96",
   "metadata": {},
   "outputs": [],
   "source": []
  },
  {
   "cell_type": "code",
   "execution_count": 343,
   "id": "8e50412a",
   "metadata": {},
   "outputs": [
    {
     "data": {
      "text/plain": [
       "10-element Vector{Vector{Char}}:\n",
       " ['C', 'A', 'G', 'T', 'T', 'C', 'C', 'A', 'A', 'T', 'G', 'T', 'C', 'A', 'T', 'C', 'G', 'A', 'A', 'C']\n",
       " ['C', 'C', 'T', 'C', 'G', 'G', 'T', 'C', 'G', 'C', 'G', 'G', 'C', 'T', 'G', 'G', 'G', 'C', 'G', 'T']\n",
       " ['G', 'T', 'C', 'T', 'T', 'G', 'G', 'C', 'T', 'A', 'G', 'A', 'T', 'C', 'C', 'T', 'G', 'A', 'G', 'A']\n",
       " ['C', 'A', 'G', 'G', 'T', 'C', 'G', 'G', 'C', 'G', 'T', 'C', 'T', 'A', 'C', 'C', 'G', 'C', 'G', 'A']\n",
       " ['T', 'A', 'C', 'G', 'C', 'C', 'C', 'T', 'C', 'G', 'A', 'A', 'G', 'C', 'A', 'T', 'G', 'G', 'A', 'A']\n",
       " ['C', 'C', 'A', 'G', 'A', 'A', 'A', 'G', 'T', 'G', 'C', 'G', 'T', 'T', 'G', 'T', 'C', 'G', 'T', 'A']\n",
       " ['C', 'C', 'T', 'A', 'C', 'G', 'C', 'A', 'C', 'A', 'C', 'A', 'C', 'T', 'T', 'T', 'T', 'T', 'T', 'C']\n",
       " ['T', 'A', 'A', 'G', 'T', 'T', 'G', 'C', 'G', 'G', 'C', 'G', 'T', 'T', 'T', 'C', 'A', 'G', 'A', 'C']\n",
       " ['C', 'T', 'G', 'G', 'C', 'C', 'C', 'T', 'T', 'C', 'G', 'A', 'G', 'T', 'A', 'T', 'G', 'G', 'A', 'T']\n",
       " ['A', 'G', 'A', 'G', 'C', 'G', 'A', 'C', 'G', 'A', 'T', 'T', 'C', 'G', 'T', 'A', 'A', 'C', 'G', 'A']"
      ]
     },
     "execution_count": 343,
     "metadata": {},
     "output_type": "execute_result"
    }
   ],
   "source": [
    "sequences"
   ]
  },
  {
   "cell_type": "code",
   "execution_count": 253,
   "id": "e83ba144",
   "metadata": {},
   "outputs": [
    {
     "data": {
      "text/plain": [
       "Any[]"
      ]
     },
     "execution_count": 253,
     "metadata": {},
     "output_type": "execute_result"
    }
   ],
   "source": [
    "abc = []"
   ]
  },
  {
   "cell_type": "code",
   "execution_count": 262,
   "id": "0c03fe7a",
   "metadata": {},
   "outputs": [
    {
     "data": {
      "text/plain": [
       "3-element Vector{Any}:\n",
       " [1, 2, 3]\n",
       " [1, 2, 3]\n",
       " [1, 4, 3]"
      ]
     },
     "execution_count": 262,
     "metadata": {},
     "output_type": "execute_result"
    }
   ],
   "source": [
    "push!(abc,[1,4,3])"
   ]
  },
  {
   "cell_type": "code",
   "execution_count": 263,
   "id": "f206892b",
   "metadata": {},
   "outputs": [
    {
     "data": {
      "text/plain": [
       "4"
      ]
     },
     "execution_count": 263,
     "metadata": {},
     "output_type": "execute_result"
    }
   ],
   "source": [
    "abc[3][2]"
   ]
  },
  {
   "cell_type": "code",
   "execution_count": 270,
   "id": "5873620e",
   "metadata": {},
   "outputs": [
    {
     "data": {
      "text/plain": [
       "(['C', 'G', 'T', 'C', 'G', 'C'], [13, 8, 3, 6, 9, 14, 2, 3, 7, 5], [['C', 'A', 'T', 'C', 'G', 'A'], ['C', 'G', 'C', 'G', 'G', 'C'], ['C', 'T', 'T', 'G', 'G', 'C'], ['C', 'G', 'G', 'C', 'G', 'T'], ['C', 'G', 'A', 'A', 'G', 'C'], ['T', 'G', 'T', 'C', 'G', 'T'], ['C', 'T', 'A', 'C', 'G', 'C'], ['A', 'G', 'T', 'T', 'G', 'C'], ['C', 'T', 'T', 'C', 'G', 'A'], ['C', 'G', 'A', 'C', 'G', 'A']], [['C', 'A', 'G', 'T', 'T', 'C', 'C', 'A', 'A', 'T', 'G', 'T', 'C', 'A', 'T', 'C', 'G', 'A', 'A', 'C'], ['C', 'C', 'T', 'C', 'G', 'G', 'T', 'C', 'G', 'C', 'G', 'G', 'C', 'T', 'G', 'G', 'G', 'C', 'G', 'T'], ['G', 'T', 'C', 'T', 'T', 'G', 'G', 'C', 'T', 'A', 'G', 'A', 'T', 'C', 'C', 'T', 'G', 'A', 'G', 'A'], ['C', 'A', 'G', 'G', 'T', 'C', 'G', 'G', 'C', 'G', 'T', 'C', 'T', 'A', 'C', 'C', 'G', 'C', 'G', 'A'], ['T', 'A', 'C', 'G', 'C', 'C', 'C', 'T', 'C', 'G', 'A', 'A', 'G', 'C', 'A', 'T', 'G', 'G', 'A', 'A'], ['C', 'C', 'A', 'G', 'A', 'A', 'A', 'G', 'T', 'G', 'C', 'G', 'T', 'T', 'G', 'T', 'C', 'G', 'T', 'A'], ['C', 'C', 'T', 'A', 'C', 'G', 'C', 'A', 'C', 'A', 'C', 'A', 'C', 'T', 'T', 'T', 'T', 'T', 'T', 'C'], ['T', 'A', 'A', 'G', 'T', 'T', 'G', 'C', 'G', 'G', 'C', 'G', 'T', 'T', 'T', 'C', 'A', 'G', 'A', 'C'], ['C', 'T', 'G', 'G', 'C', 'C', 'C', 'T', 'T', 'C', 'G', 'A', 'G', 'T', 'A', 'T', 'G', 'G', 'A', 'T'], ['A', 'G', 'A', 'G', 'C', 'G', 'A', 'C', 'G', 'A', 'T', 'T', 'C', 'G', 'T', 'A', 'A', 'C', 'G', 'A']])"
      ]
     },
     "execution_count": 270,
     "metadata": {},
     "output_type": "execute_result"
    }
   ],
   "source": [
    "motif, motif_starts, motifs_implanted, sequences"
   ]
  },
  {
   "cell_type": "code",
   "execution_count": 374,
   "id": "99bf07e7",
   "metadata": {},
   "outputs": [
    {
     "name": "stdout",
     "output_type": "stream",
     "text": [
      "[12, 14, 13, 1, 3, 11]Any[['T', 'C', 'G', 'T', 'T', 'G'], ['G', 'C', 'G', 'G', 'T', 'G'], ['G', 'C', 'G', 'G', 'T', 'G'], ['G', 'C', 'G', 'T', 'T', 'G'], ['G', 'T', 'G', 'T', 'T', 'G'], ['G', 'G', 'G', 'T', 'T', 'C']][0.0 0.0 0.0 0.0 0.0 0.0; 0.0 0.6666666666666666 0.0 0.0 0.0 0.16666666666666666; 0.8333333333333334 0.16666666666666666 1.0 0.3333333333333333 0.0 0.8333333333333334; 0.16666666666666666 0.16666666666666666 0.0 0.6666666666666666 1.0 0.0]Dict('A' => 6, 'G' => 3, 'T' => 5, 'C' => 6)Dict('A' => 6, 'G' => 3, 'T' => 5, 'C' => 6)Dict('A' => 6, 'G' => 3, 'T' => 5, 'C' => 6)Dict('A' => 6, 'G' => 3, 'T' => 5, 'C' => 6)Dict('A' => 6, 'G' => 3, 'T' => 5, 'C' => 6)Dict('A' => 6, 'G' => 3, 'T' => 5, 'C' => 6)Dict('G' => 9, 'T' => 4, 'C' => 7)Dict('G' => 9, 'T' => 4, 'C' => 7)Dict('G' => 9, 'T' => 4, 'C' => 7)Dict('G' => 9, 'T' => 4, 'C' => 7)Dict('G' => 9, 'T' => 4, 'C' => 7)Dict('G' => 9, 'T' => 4, 'C' => 7)Dict('A' => 4, 'G' => 6, 'T' => 6, 'C' => 4)Dict('A' => 4, 'G' => 6, 'T' => 6, 'C' => 4)Dict('A' => 4, 'G' => 6, 'T' => 6, 'C' => 4)Dict('A' => 4, 'G' => 6, 'T' => 6, 'C' => 4)Dict('A' => 4, 'G' => 6, 'T' => 6, 'C' => 4)Dict('A' => 4, 'G' => 6, 'T' => 6, 'C' => 4)Dict('A' => 3, 'G' => 7, 'T' => 3, 'C' => 7)Dict('A' => 3, 'G' => 7, 'T' => 3, 'C' => 7)Dict('A' => 3, 'G' => 7, 'T' => 3, 'C' => 7)Dict('A' => 3, 'G' => 7, 'T' => 3, 'C' => 7)Dict('A' => 3, 'G' => 7, 'T' => 3, 'C' => 7)Dict('A' => 3, 'G' => 7, 'T' => 3, 'C' => 7)Dict('A' => 6, 'G' => 5, 'T' => 3, 'C' => 6)Dict('A' => 6, 'G' => 5, 'T' => 3, 'C' => 6)Dict('A' => 6, 'G' => 5, 'T' => 3, 'C' => 6)Dict('A' => 6, 'G' => 5, 'T' => 3, 'C' => 6)Dict('A' => 6, 'G' => 5, 'T' => 3, 'C' => 6)Dict('A' => 6, 'G' => 5, 'T' => 3, 'C' => 6)Dict('A' => 5, 'G' => 6, 'T' => 5, 'C' => 4)Dict('A' => 5, 'G' => 6, 'T' => 5, 'C' => 4)Dict('A' => 5, 'G' => 6, 'T' => 5, 'C' => 4)Dict('A' => 5, 'G' => 6, 'T' => 5, 'C' => 4)Dict('A' => 5, 'G' => 6, 'T' => 5, 'C' => 4)Dict('A' => 5, 'G' => 6, 'T' => 5, 'C' => 4)[2, 10, 9, 7, 3, 8]Any[['G', 'G', 'T', 'G', 'C', 'G'], ['G', 'G', 'T', 'G', 'C', 'G'], ['G', 'G', 'T', 'G', 'C', 'G'], ['G', 'G', 'G', 'G', 'A', 'G'], ['G', 'G', 'T', 'G', 'C', 'G'], ['G', 'G', 'T', 'G', 'T', 'G']][0.0 0.0 0.0 0.0 0.16666666666666666 0.0; 0.0 0.0 0.0 0.0 0.6666666666666666 0.0; 1.0 1.0 0.16666666666666666 1.0 0.0 1.0; 0.0 0.0 0.8333333333333334 0.0 0.16666666666666666 0.0]Dict('A' => 6, 'G' => 3, 'T' => 5, 'C' => 6)Dict('A' => 6, 'G' => 3, 'T' => 5, 'C' => 6)Dict('A' => 6, 'G' => 3, 'T' => 5, 'C' => 6)Dict('A' => 6, 'G' => 3, 'T' => 5, 'C' => 6)Dict('A' => 6, 'G' => 3, 'T' => 5, 'C' => 6)Dict('A' => 6, 'G' => 3, 'T' => 5, 'C' => 6)Dict('G' => 9, 'T' => 4, 'C' => 7)Dict('G' => 9, 'T' => 4, 'C' => 7)Dict('G' => 9, 'T' => 4, 'C' => 7)Dict('G' => 9, 'T' => 4, 'C' => 7)Dict('G' => 9, 'T' => 4, 'C' => 7)Dict('G' => 9, 'T' => 4, 'C' => 7)Dict('A' => 4, 'G' => 6, 'T' => 6, 'C' => 4)Dict('A' => 4, 'G' => 6, 'T' => 6, 'C' => 4)Dict('A' => 4, 'G' => 6, 'T' => 6, 'C' => 4)Dict('A' => 4, 'G' => 6, 'T' => 6, 'C' => 4)Dict('A' => 4, 'G' => 6, 'T' => 6, 'C' => 4)Dict('A' => 4, 'G' => 6, 'T' => 6, 'C' => 4)Dict('A' => 3, 'G' => 7, 'T' => 3, 'C' => 7)Dict('A' => 3, 'G' => 7, 'T' => 3, 'C' => 7)Dict('A' => 3, 'G' => 7, 'T' => 3, 'C' => 7)Dict('A' => 3, 'G' => 7, 'T' => 3, 'C' => 7)Dict('A' => 3, 'G' => 7, 'T' => 3, 'C' => 7)Dict('A' => 3, 'G' => 7, 'T' => 3, 'C' => 7)Dict('A' => 6, 'G' => 5, 'T' => 3, 'C' => 6)Dict('A' => 6, 'G' => 5, 'T' => 3, 'C' => 6)Dict('A' => 6, 'G' => 5, 'T' => 3, 'C' => 6)Dict('A' => 6, 'G' => 5, 'T' => 3, 'C' => 6)Dict('A' => 6, 'G' => 5, 'T' => 3, 'C' => 6)Dict('A' => 6, 'G' => 5, 'T' => 3, 'C' => 6)Dict('A' => 5, 'G' => 6, 'T' => 5, 'C' => 4)Dict('A' => 5, 'G' => 6, 'T' => 5, 'C' => 4)Dict('A' => 5, 'G' => 6, 'T' => 5, 'C' => 4)Dict('A' => 5, 'G' => 6, 'T' => 5, 'C' => 4)Dict('A' => 5, 'G' => 6, 'T' => 5, 'C' => 4)Dict('A' => 5, 'G' => 6, 'T' => 5, 'C' => 4)[3, 12, 11, 10, 15, 1]Any[['G', 'T', 'G', 'A', 'G', 'G'], ['G', 'T', 'G', 'G', 'G', 'G'], ['G', 'T', 'G', 'A', 'G', 'G'], ['G', 'T', 'A', 'C', 'G', 'G'], ['G', 'T', 'G', 'A', 'G', 'G'], ['G', 'T', 'G', 'T', 'G', 'G']][0.0 0.0 0.16666666666666666 0.5 0.0 0.0; 0.0 0.0 0.0 0.16666666666666666 0.0 0.0; 1.0 0.0 0.8333333333333334 0.16666666666666666 1.0 1.0; 0.0 1.0 0.0 0.16666666666666666 0.0 0.0]Dict('A' => 6, 'G' => 3, 'T' => 5, 'C' => 6)Dict('A' => 6, 'G' => 3, 'T' => 5, 'C' => 6)Dict('A' => 6, 'G' => 3, 'T' => 5, 'C' => 6)Dict('A' => 6, 'G' => 3, 'T' => 5, 'C' => 6)Dict('A' => 6, 'G' => 3, 'T' => 5, 'C' => 6)Dict('A' => 6, 'G' => 3, 'T' => 5, 'C' => 6)Dict('G' => 9, 'T' => 4, 'C' => 7)Dict('G' => 9, 'T' => 4, 'C' => 7)Dict('G' => 9, 'T' => 4, 'C' => 7)Dict('G' => 9, 'T' => 4, 'C' => 7)Dict('G' => 9, 'T' => 4, 'C' => 7)Dict('G' => 9, 'T' => 4, 'C' => 7)Dict('A' => 4, 'G' => 6, 'T' => 6, 'C' => 4)Dict('A' => 4, 'G' => 6, 'T' => 6, 'C' => 4)Dict('A' => 4, 'G' => 6, 'T' => 6, 'C' => 4)Dict('A' => 4, 'G' => 6, 'T' => 6, 'C' => 4)Dict('A' => 4, 'G' => 6, 'T' => 6, 'C' => 4)Dict('A' => 4, 'G' => 6, 'T' => 6, 'C' => 4)Dict('A' => 3, 'G' => 7, 'T' => 3, 'C' => 7)Dict('A' => 3, 'G' => 7, 'T' => 3, 'C' => 7)Dict('A' => 3, 'G' => 7, 'T' => 3, 'C' => 7)Dict('A' => 3, 'G' => 7, 'T' => 3, 'C' => 7)Dict('A' => 3, 'G' => 7, 'T' => 3, 'C' => 7)Dict('A' => 3, 'G' => 7, 'T' => 3, 'C' => 7)Dict('A' => 6, 'G' => 5, 'T' => 3, 'C' => 6)Dict('A' => 6, 'G' => 5, 'T' => 3, 'C' => 6)Dict('A' => 6, 'G' => 5, 'T' => 3, 'C' => 6)Dict('A' => 6, 'G' => 5, 'T' => 3, 'C' => 6)Dict('A' => 6, 'G' => 5, 'T' => 3, 'C' => 6)Dict('A' => 6, 'G' => 5, 'T' => 3, 'C' => 6)Dict('A' => 5, 'G' => 6, 'T' => 5, 'C' => 4)Dict('A' => 5, 'G' => 6, 'T' => 5, 'C' => 4)Dict('A' => 5, 'G' => 6, 'T' => 5, 'C' => 4)Dict('A' => 5, 'G' => 6, 'T' => 5, 'C' => 4)Dict('A' => 5, 'G' => 6, 'T' => 5, 'C' => 4)Dict('A' => 5, 'G' => 6, 'T' => 5, 'C' => 4)[3, 12, 2, 8, 9, 5]Any[['G', 'G', 'T', 'G', 'A', 'C'], ['G', 'G', 'G', 'G', 'G', 'G'], ['G', 'G', 'C', 'G', 'A', 'C'], ['G', 'G', 'T', 'G', 'A', 'C'], ['G', 'T', 'G', 'G', 'A', 'C'], ['G', 'G', 'T', 'G', 'G', 'T']][0.0 0.0 0.0 0.0 0.6666666666666666 0.0; 0.0 0.0 0.16666666666666666 0.0 0.0 0.6666666666666666; 1.0 0.8333333333333334 0.3333333333333333 1.0 0.3333333333333333 0.16666666666666666; 0.0 0.16666666666666666 0.5 0.0 0.0 0.16666666666666666]Dict('A' => 6, 'G' => 3, 'T' => 5, 'C' => 6)Dict('A' => 6, 'G' => 3, 'T' => 5, 'C' => 6)Dict('A' => 6, 'G' => 3, 'T' => 5, 'C' => 6)Dict('A' => 6, 'G' => 3, 'T' => 5, 'C' => 6)Dict('A' => 6, 'G' => 3, 'T' => 5, 'C' => 6)Dict('A' => 6, 'G' => 3, 'T' => 5, 'C' => 6)Dict('G' => 9, 'T' => 4, 'C' => 7)Dict('G' => 9, 'T' => 4, 'C' => 7)Dict('G' => 9, 'T' => 4, 'C' => 7)Dict('G' => 9, 'T' => 4, 'C' => 7)Dict('G' => 9, 'T' => 4, 'C' => 7)Dict('G' => 9, 'T' => 4, 'C' => 7)Dict('A' => 4, 'G' => 6, 'T' => 6, 'C' => 4)Dict('A' => 4, 'G' => 6, 'T' => 6, 'C' => 4)Dict('A' => 4, 'G' => 6, 'T' => 6, 'C' => 4)Dict('A' => 4, 'G' => 6, 'T' => 6, 'C' => 4)Dict('A' => 4, 'G' => 6, 'T' => 6, 'C' => 4)Dict('A' => 4, 'G' => 6, 'T' => 6, 'C' => 4)Dict('A' => 3, 'G' => 7, 'T' => 3, 'C' => 7)Dict('A' => 3, 'G' => 7, 'T' => 3, 'C' => 7)Dict('A' => 3, 'G' => 7, 'T' => 3, 'C' => 7)Dict('A' => 3, 'G' => 7, 'T' => 3, 'C' => 7)Dict('A' => 3, 'G' => 7, 'T' => 3, 'C' => 7)Dict('A' => 3, 'G' => 7, 'T' => 3, 'C' => 7)Dict('A' => 6, 'G' => 5, 'T' => 3, 'C' => 6)Dict('A' => 6, 'G' => 5, 'T' => 3, 'C' => 6)Dict('A' => 6, 'G' => 5, 'T' => 3, 'C' => 6)Dict('A' => 6, 'G' => 5, 'T' => 3, 'C' => 6)Dict('A' => 6, 'G' => 5, 'T' => 3, 'C' => 6)Dict('A' => 6, 'G' => 5, 'T' => 3, 'C' => 6)Dict('A' => 5, 'G' => 6, 'T' => 5, 'C' => 4)Dict('A' => 5, 'G' => 6, 'T' => 5, 'C' => 4)Dict('A' => 5, 'G' => 6, 'T' => 5, 'C' => 4)Dict('A' => 5, 'G' => 6, 'T' => 5, 'C' => 4)Dict('A' => 5, 'G' => 6, 'T' => 5, 'C' => 4)Dict('A' => 5, 'G' => 6, 'T' => 5, 'C' => 4)[6, 4, 13, 1, 12, 2]Any[['G', 'G', 'G', 'G', 'T', 'G'], ['G', 'G', 'G', 'C', 'T', 'G'], ['G', 'A', 'G', 'G', 'G', 'G'], ['G', 'G', 'G', 'T', 'T', 'G'], ['G', 'G', 'G', 'G', 'C', 'G'], ['G', 'G', 'G', 'G', 'C', 'G']][0.0 0.16666666666666666 0.0 0.0 0.0 0.0; 0.0 0.0 0.0 0.16666666666666666 0.3333333333333333 0.0; 1.0 0.8333333333333334 1.0 0.6666666666666666 0.16666666666666666 1.0; 0.0 0.0 0.0 0.16666666666666666 0.5 0.0]Dict('A' => 6, 'G' => 3, 'T' => 5, 'C' => 6)Dict('A' => 6, 'G' => 3, 'T' => 5, 'C' => 6)Dict('A' => 6, 'G' => 3, 'T' => 5, 'C' => 6)Dict('A' => 6, 'G' => 3, 'T' => 5, 'C' => 6)Dict('A' => 6, 'G' => 3, 'T' => 5, 'C' => 6)Dict('A' => 6, 'G' => 3, 'T' => 5, 'C' => 6)Dict('G' => 9, 'T' => 4, 'C' => 7)Dict('G' => 9, 'T' => 4, 'C' => 7)Dict('G' => 9, 'T' => 4, 'C' => 7)Dict('G' => 9, 'T' => 4, 'C' => 7)Dict('G' => 9, 'T' => 4, 'C' => 7)Dict('G' => 9, 'T' => 4, 'C' => 7)Dict('A' => 4, 'G' => 6, 'T' => 6, 'C' => 4)Dict('A' => 4, 'G' => 6, 'T' => 6, 'C' => 4)Dict('A' => 4, 'G' => 6, 'T' => 6, 'C' => 4)Dict('A' => 4, 'G' => 6, 'T' => 6, 'C' => 4)Dict('A' => 4, 'G' => 6, 'T' => 6, 'C' => 4)Dict('A' => 4, 'G' => 6, 'T' => 6, 'C' => 4)Dict('A' => 3, 'G' => 7, 'T' => 3, 'C' => 7)Dict('A' => 3, 'G' => 7, 'T' => 3, 'C' => 7)Dict('A' => 3, 'G' => 7, 'T' => 3, 'C' => 7)Dict('A' => 3, 'G' => 7, 'T' => 3, 'C' => 7)Dict('A' => 3, 'G' => 7, 'T' => 3, 'C' => 7)Dict('A' => 3, 'G' => 7, 'T' => 3, 'C' => 7)Dict('A' => 6, 'G' => 5, 'T' => 3, 'C' => 6)Dict('A' => 6, 'G' => 5, 'T' => 3, 'C' => 6)Dict('A' => 6, 'G' => 5, 'T' => 3, 'C' => 6)Dict('A' => 6, 'G' => 5, 'T' => 3, 'C' => 6)Dict('A' => 6, 'G' => 5, 'T' => 3, 'C' => 6)Dict('A' => 6, 'G' => 5, 'T' => 3, 'C' => 6)Dict('A' => 5, 'G' => 6, 'T' => 5, 'C' => 4)Dict('A' => 5, 'G' => 6, 'T' => 5, 'C' => 4)Dict('A' => 5, 'G' => 6, 'T' => 5, 'C' => 4)Dict('A' => 5, 'G' => 6, 'T' => 5, 'C' => 4)Dict('A' => 5, 'G' => 6, 'T' => 5, 'C' => 4)Dict('A' => 5, 'G' => 6, 'T' => 5, 'C' => 4)[10, 13, 2, 15, 4, 1]Any[['G', 'G', 'G', 'G', 'G', 'G'], ['G', 'G', 'G', 'G', 'G', 'G'], ['G', 'G', 'G', 'G', 'C', 'G'], ['G', 'G', 'G', 'G', 'A', 'G'], ['G', 'G', 'G', 'G', 'A', 'G'], ['G', 'G', 'G', 'G', 'G', 'G']][0.0 0.0 0.0 0.0 0.3333333333333333 0.0; 0.0 0.0 0.0 0.0 0.16666666666666666 0.0; 1.0 1.0 1.0 1.0 0.5 1.0; 0.0 0.0 0.0 0.0 0.0 0.0]Dict('A' => 6, 'G' => 3, 'T' => 5, 'C' => 6)Dict('A' => 6, 'G' => 3, 'T' => 5, 'C' => 6)Dict('A' => 6, 'G' => 3, 'T' => 5, 'C' => 6)Dict('A' => 6, 'G' => 3, 'T' => 5, 'C' => 6)Dict('A' => 6, 'G' => 3, 'T' => 5, 'C' => 6)Dict('A' => 6, 'G' => 3, 'T' => 5, 'C' => 6)Dict('G' => 9, 'T' => 4, 'C' => 7)Dict('G' => 9, 'T' => 4, 'C' => 7)Dict('G' => 9, 'T' => 4, 'C' => 7)Dict('G' => 9, 'T' => 4, 'C' => 7)Dict('G' => 9, 'T' => 4, 'C' => 7)Dict('G' => 9, 'T' => 4, 'C' => 7)Dict('A' => 4, 'G' => 6, 'T' => 6, 'C' => 4)Dict('A' => 4, 'G' => 6, 'T' => 6, 'C' => 4)Dict('A' => 4, 'G' => 6, 'T' => 6, 'C' => 4)Dict('A' => 4, 'G' => 6, 'T' => 6, 'C' => 4)Dict('A' => 4, 'G' => 6, 'T' => 6, 'C' => 4)Dict('A' => 4, 'G' => 6, 'T' => 6, 'C' => 4)Dict('A' => 3, 'G' => 7, 'T' => 3, 'C' => 7)Dict('A' => 3, 'G' => 7, 'T' => 3, 'C' => 7)Dict('A' => 3, 'G' => 7, 'T' => 3, 'C' => 7)Dict('A' => 3, 'G' => 7, 'T' => 3, 'C' => 7)Dict('A' => 3, 'G' => 7, 'T' => 3, 'C' => 7)Dict('A' => 3, 'G' => 7, 'T' => 3, 'C' => 7)Dict('A' => 6, 'G' => 5, 'T' => 3, 'C' => 6)Dict('A' => 6, 'G' => 5, 'T' => 3, 'C' => 6)Dict('A' => 6, 'G' => 5, 'T' => 3, 'C' => 6)Dict('A' => 6, 'G' => 5, 'T' => 3, 'C' => 6)Dict('A' => 6, 'G' => 5, 'T' => 3, 'C' => 6)Dict('A' => 6, 'G' => 5, 'T' => 3, 'C' => 6)Dict('A' => 5, 'G' => 6, 'T' => 5, 'C' => 4)Dict('A' => 5, 'G' => 6, 'T' => 5, 'C' => 4)Dict('A' => 5, 'G' => 6, 'T' => 5, 'C' => 4)Dict('A' => 5, 'G' => 6, 'T' => 5, 'C' => 4)Dict('A' => 5, 'G' => 6, 'T' => 5, 'C' => 4)Dict('A' => 5, 'G' => 6, 'T' => 5, 'C' => 4)[14, 5, 9, 8, 10, 12]Any[['T', 'T', 'C', 'G', 'G', 'G'], ['T', 'T', 'C', 'G', 'G', 'G'], ['T', 'T', 'A', 'T', 'G', 'G'], ['T', 'A', 'A', 'G', 'G', 'G'], ['T', 'T', 'G', 'G', 'G', 'G'], ['T', 'T', 'A', 'T', 'G', 'G']][0.0 0.16666666666666666 0.5 0.0 0.0 0.0; 0.0 0.0 0.3333333333333333 0.0 0.0 0.0; 0.0 0.0 0.16666666666666666 0.6666666666666666 1.0 1.0; 1.0 0.8333333333333334 0.0 0.3333333333333333 0.0 0.0]Dict('A' => 6, 'G' => 3, 'T' => 5, 'C' => 6)Dict('A' => 6, 'G' => 3, 'T' => 5, 'C' => 6)Dict('A' => 6, 'G' => 3, 'T' => 5, 'C' => 6)Dict('A' => 6, 'G' => 3, 'T' => 5, 'C' => 6)Dict('A' => 6, 'G' => 3, 'T' => 5, 'C' => 6)Dict('A' => 6, 'G' => 3, 'T' => 5, 'C' => 6)Dict('G' => 9, 'T' => 4, 'C' => 7)Dict('G' => 9, 'T' => 4, 'C' => 7)Dict('G' => 9, 'T' => 4, 'C' => 7)Dict('G' => 9, 'T' => 4, 'C' => 7)Dict('G' => 9, 'T' => 4, 'C' => 7)Dict('G' => 9, 'T' => 4, 'C' => 7)Dict('A' => 4, 'G' => 6, 'T' => 6, 'C' => 4)Dict('A' => 4, 'G' => 6, 'T' => 6, 'C' => 4)Dict('A' => 4, 'G' => 6, 'T' => 6, 'C' => 4)Dict('A' => 4, 'G' => 6, 'T' => 6, 'C' => 4)Dict('A' => 4, 'G' => 6, 'T' => 6, 'C' => 4)Dict('A' => 4, 'G' => 6, 'T' => 6, 'C' => 4)Dict('A' => 3, 'G' => 7, 'T' => 3, 'C' => 7)Dict('A' => 3, 'G' => 7, 'T' => 3, 'C' => 7)Dict('A' => 3, 'G' => 7, 'T' => 3, 'C' => 7)Dict('A' => 3, 'G' => 7, 'T' => 3, 'C' => 7)Dict('A' => 3, 'G' => 7, 'T' => 3, 'C' => 7)Dict('A' => 3, 'G' => 7, 'T' => 3, 'C' => 7)Dict('A' => 6, 'G' => 5, 'T' => 3, 'C' => 6)Dict('A' => 6, 'G' => 5, 'T' => 3, 'C' => 6)Dict('A' => 6, 'G' => 5, 'T' => 3, 'C' => 6)Dict('A' => 6, 'G' => 5, 'T' => 3, 'C' => 6)Dict('A' => 6, 'G' => 5, 'T' => 3, 'C' => 6)Dict('A' => 6, 'G' => 5, 'T' => 3, 'C' => 6)Dict('A' => 5, 'G' => 6, 'T' => 5, 'C' => 4)Dict('A' => 5, 'G' => 6, 'T' => 5, 'C' => 4)Dict('A' => 5, 'G' => 6, 'T' => 5, 'C' => 4)Dict('A' => 5, 'G' => 6, 'T' => 5, 'C' => 4)Dict('A' => 5, 'G' => 6, 'T' => 5, 'C' => 4)Dict('A' => 5, 'G' => 6, 'T' => 5, 'C' => 4)[12, 1, 7, 2, 4, 9]Any[['G', 'G', 'G', 'T', 'G', 'G'], ['G', 'G', 'G', 'T', 'G', 'G'], ['G', 'A', 'G', 'T', 'G', 'G'], ['G', 'G', 'G', 'T', 'G', 'G'], ['G', 'G', 'G', 'T', 'G', 'G'], ['G', 'T', 'G', 'G', 'G', 'G']][0.0 0.16666666666666666 0.0 0.0 0.0 0.0; 0.0 0.0 0.0 0.0 0.0 0.0; 1.0 0.6666666666666666 1.0 0.16666666666666666 1.0 1.0; 0.0 0.16666666666666666 0.0 0.8333333333333334 0.0 0.0]Dict('A' => 6, 'G' => 3, 'T' => 5, 'C' => 6)Dict('A' => 6, 'G' => 3, 'T' => 5, 'C' => 6)Dict('A' => 6, 'G' => 3, 'T' => 5, 'C' => 6)Dict('A' => 6, 'G' => 3, 'T' => 5, 'C' => 6)Dict('A' => 6, 'G' => 3, 'T' => 5, 'C' => 6)Dict('A' => 6, 'G' => 3, 'T' => 5, 'C' => 6)Dict('G' => 9, 'T' => 4, 'C' => 7)Dict('G' => 9, 'T' => 4, 'C' => 7)Dict('G' => 9, 'T' => 4, 'C' => 7)Dict('G' => 9, 'T' => 4, 'C' => 7)Dict('G' => 9, 'T' => 4, 'C' => 7)Dict('G' => 9, 'T' => 4, 'C' => 7)Dict('A' => 4, 'G' => 6, 'T' => 6, 'C' => 4)Dict('A' => 4, 'G' => 6, 'T' => 6, 'C' => 4)Dict('A' => 4, 'G' => 6, 'T' => 6, 'C' => 4)Dict('A' => 4, 'G' => 6, 'T' => 6, 'C' => 4)Dict('A' => 4, 'G' => 6, 'T' => 6, 'C' => 4)Dict('A' => 4, 'G' => 6, 'T' => 6, 'C' => 4)Dict('A' => 3, 'G' => 7, 'T' => 3, 'C' => 7)Dict('A' => 3, 'G' => 7, 'T' => 3, 'C' => 7)Dict('A' => 3, 'G' => 7, 'T' => 3, 'C' => 7)Dict('A' => 3, 'G' => 7, 'T' => 3, 'C' => 7)Dict('A' => 3, 'G' => 7, 'T' => 3, 'C' => 7)Dict('A' => 3, 'G' => 7, 'T' => 3, 'C' => 7)Dict('A' => 6, 'G' => 5, 'T' => 3, 'C' => 6)Dict('A' => 6, 'G' => 5, 'T' => 3, 'C' => 6)Dict('A' => 6, 'G' => 5, 'T' => 3, 'C' => 6)Dict('A' => 6, 'G' => 5, 'T' => 3, 'C' => 6)Dict('A' => 6, 'G' => 5, 'T' => 3, 'C' => 6)Dict('A' => 6, 'G' => 5, 'T' => 3, 'C' => 6)Dict('A' => 5, 'G' => 6, 'T' => 5, 'C' => 4)Dict('A' => 5, 'G' => 6, 'T' => 5, 'C' => 4)Dict('A' => 5, 'G' => 6, 'T' => 5, 'C' => 4)Dict('A' => 5, 'G' => 6, 'T' => 5, 'C' => 4)Dict('A' => 5, 'G' => 6, 'T' => 5, 'C' => 4)Dict('A' => 5, 'G' => 6, 'T' => 5, 'C' => 4)[14, 4, 11, 5, 8, 15]Any[['G', 'T', 'G', 'G', 'A', 'G'], ['G', 'T', 'C', 'G', 'A', 'G'], ['G', 'T', 'G', 'G', 'A', 'C'], ['G', 'T', 'G', 'G', 'A', 'T'], ['G', 'T', 'G', 'G', 'C', 'C'], ['G', 'T', 'G', 'G', 'A', 'G']][0.0 0.0 0.0 0.0 0.8333333333333334 0.0; 0.0 0.0 0.16666666666666666 0.0 0.16666666666666666 0.3333333333333333; 1.0 0.0 0.8333333333333334 1.0 0.0 0.5; 0.0 1.0 0.0 0.0 0.0 0.16666666666666666]Dict('A' => 6, 'G' => 3, 'T' => 5, 'C' => 6)Dict('A' => 6, 'G' => 3, 'T' => 5, 'C' => 6)Dict('A' => 6, 'G' => 3, 'T' => 5, 'C' => 6)Dict('A' => 6, 'G' => 3, 'T' => 5, 'C' => 6)Dict('A' => 6, 'G' => 3, 'T' => 5, 'C' => 6)Dict('A' => 6, 'G' => 3, 'T' => 5, 'C' => 6)Dict('G' => 9, 'T' => 4, 'C' => 7)Dict('G' => 9, 'T' => 4, 'C' => 7)Dict('G' => 9, 'T' => 4, 'C' => 7)Dict('G' => 9, 'T' => 4, 'C' => 7)Dict('G' => 9, 'T' => 4, 'C' => 7)Dict('G' => 9, 'T' => 4, 'C' => 7)Dict('A' => 4, 'G' => 6, 'T' => 6, 'C' => 4)Dict('A' => 4, 'G' => 6, 'T' => 6, 'C' => 4)Dict('A' => 4, 'G' => 6, 'T' => 6, 'C' => 4)Dict('A' => 4, 'G' => 6, 'T' => 6, 'C' => 4)Dict('A' => 4, 'G' => 6, 'T' => 6, 'C' => 4)Dict('A' => 4, 'G' => 6, 'T' => 6, 'C' => 4)Dict('A' => 3, 'G' => 7, 'T' => 3, 'C' => 7)Dict('A' => 3, 'G' => 7, 'T' => 3, 'C' => 7)Dict('A' => 3, 'G' => 7, 'T' => 3, 'C' => 7)Dict('A' => 3, 'G' => 7, 'T' => 3, 'C' => 7)Dict('A' => 3, 'G' => 7, 'T' => 3, 'C' => 7)Dict('A' => 3, 'G' => 7, 'T' => 3, 'C' => 7)Dict('A' => 6, 'G' => 5, 'T' => 3, 'C' => 6)Dict('A' => 6, 'G' => 5, 'T' => 3, 'C' => 6)Dict('A' => 6, 'G' => 5, 'T' => 3, 'C' => 6)Dict('A' => 6, 'G' => 5, 'T' => 3, 'C' => 6)Dict('A' => 6, 'G' => 5, 'T' => 3, 'C' => 6)Dict('A' => 6, 'G' => 5, 'T' => 3, 'C' => 6)Dict('A' => 5, 'G' => 6, 'T' => 5, 'C' => 4)Dict('A' => 5, 'G' => 6, 'T' => 5, 'C' => 4)Dict('A' => 5, 'G' => 6, 'T' => 5, 'C' => 4)Dict('A' => 5, 'G' => 6, 'T' => 5, 'C' => 4)Dict('A' => 5, 'G' => 6, 'T' => 5, 'C' => 4)Dict('A' => 5, 'G' => 6, 'T' => 5, 'C' => 4)[14, 6, 3, 12, 1, 8]Any[['G', 'G', 'G', 'G', 'C', 'G'], ['G', 'G', 'G', 'G', 'T', 'G'], ['G', 'G', 'G', 'G', 'T', 'G'], ['G', 'G', 'G', 'T', 'T', 'G'], ['G', 'G', 'G', 'G', 'C', 'G'], ['G', 'G', 'G', 'G', 'T', 'G']][0.0 0.0 0.0 0.0 0.0 0.0; 0.0 0.0 0.0 0.0 0.3333333333333333 0.0; 1.0 1.0 1.0 0.8333333333333334 0.0 1.0; 0.0 0.0 0.0 0.16666666666666666 0.6666666666666666 0.0]Dict('A' => 6, 'G' => 3, 'T' => 5, 'C' => 6)Dict('A' => 6, 'G' => 3, 'T' => 5, 'C' => 6)Dict('A' => 6, 'G' => 3, 'T' => 5, 'C' => 6)Dict('A' => 6, 'G' => 3, 'T' => 5, 'C' => 6)Dict('A' => 6, 'G' => 3, 'T' => 5, 'C' => 6)Dict('A' => 6, 'G' => 3, 'T' => 5, 'C' => 6)Dict('G' => 9, 'T' => 4, 'C' => 7)Dict('G' => 9, 'T' => 4, 'C' => 7)Dict('G' => 9, 'T' => 4, 'C' => 7)Dict('G' => 9, 'T' => 4, 'C' => 7)Dict('G' => 9, 'T' => 4, 'C' => 7)Dict('G' => 9, 'T' => 4, 'C' => 7)Dict('A' => 4, 'G' => 6, 'T' => 6, 'C' => 4)Dict('A' => 4, 'G' => 6, 'T' => 6, 'C' => 4)Dict('A' => 4, 'G' => 6, 'T' => 6, 'C' => 4)Dict('A' => 4, 'G' => 6, 'T' => 6, 'C' => 4)Dict('A' => 4, 'G' => 6, 'T' => 6, 'C' => 4)Dict('A' => 4, 'G' => 6, 'T' => 6, 'C' => 4)Dict('A' => 3, 'G' => 7, 'T' => 3, 'C' => 7)Dict('A' => 3, 'G' => 7, 'T' => 3, 'C' => 7)Dict('A' => 3, 'G' => 7, 'T' => 3, 'C' => 7)Dict('A' => 3, 'G' => 7, 'T' => 3, 'C' => 7)Dict('A' => 3, 'G' => 7, 'T' => 3, 'C' => 7)Dict('A' => 3, 'G' => 7, 'T' => 3, 'C' => 7)Dict('A' => 6, 'G' => 5, 'T' => 3, 'C' => 6)Dict('A' => 6, 'G' => 5, 'T' => 3, 'C' => 6)Dict('A' => 6, 'G' => 5, 'T' => 3, 'C' => 6)Dict('A' => 6, 'G' => 5, 'T' => 3, 'C' => 6)Dict('A' => 6, 'G' => 5, 'T' => 3, 'C' => 6)Dict('A' => 6, 'G' => 5, 'T' => 3, 'C' => 6)Dict('A' => 5, 'G' => 6, 'T' => 5, 'C' => 4)Dict('A' => 5, 'G' => 6, 'T' => 5, 'C' => 4)Dict('A' => 5, 'G' => 6, 'T' => 5, 'C' => 4)Dict('A' => 5, 'G' => 6, 'T' => 5, 'C' => 4)Dict('A' => 5, 'G' => 6, 'T' => 5, 'C' => 4)Dict('A' => 5, 'G' => 6, 'T' => 5, 'C' => 4)"
     ]
    },
    {
     "data": {
      "text/plain": [
       "(['C', 'G', 'T', 'C', 'G', 'C'], -0.6774227432057964)"
      ]
     },
     "execution_count": 374,
     "metadata": {},
     "output_type": "execute_result"
    }
   ],
   "source": [
    "(res_motif,res_fitness)=pso_motif(sequences,length(motif),10,100,6)"
   ]
  },
  {
   "cell_type": "code",
   "execution_count": 353,
   "id": "18215abd",
   "metadata": {},
   "outputs": [
    {
     "data": {
      "text/plain": [
       "6-element Vector{Any}:\n",
       " ['A', 'G', 'G', 'G', 'G', 'C']\n",
       " ['G', 'G', 'C', 'G', 'G', 'T']\n",
       " ['A', 'A', 'T', 'G', 'G', 'C']\n",
       " ['G', 'G', 'G', 'A', 'G', 'C']\n",
       " ['G', 'G', 'G', 'G', 'G', 'G']\n",
       " ['G', 'G', 'T', 'G', 'G', 'T']"
      ]
     },
     "execution_count": 353,
     "metadata": {},
     "output_type": "execute_result"
    }
   ],
   "source": [
    "aaaa=Any[['A', 'G', 'G', 'G', 'G', 'C'], ['G', 'G', 'C', 'G', 'G', 'T'], ['A', 'A', 'T', 'G', 'G', 'C'], ['G', 'G', 'G', 'A', 'G', 'C'], ['G', 'G', 'G', 'G', 'G', 'G'], ['G', 'G', 'T', 'G', 'G', 'T']]"
   ]
  },
  {
   "cell_type": "code",
   "execution_count": null,
   "id": "feb84731",
   "metadata": {},
   "outputs": [],
   "source": [
    "aaaa[]"
   ]
  },
  {
   "cell_type": "code",
   "execution_count": 277,
   "id": "a0254053",
   "metadata": {},
   "outputs": [
    {
     "data": {
      "text/plain": [
       "20"
      ]
     },
     "execution_count": 277,
     "metadata": {},
     "output_type": "execute_result"
    }
   ],
   "source": [
    "length(sequences[1])"
   ]
  },
  {
   "cell_type": "code",
   "execution_count": 282,
   "id": "b425fcc0",
   "metadata": {},
   "outputs": [
    {
     "data": {
      "text/plain": [
       "true"
      ]
     },
     "execution_count": 282,
     "metadata": {},
     "output_type": "execute_result"
    }
   ],
   "source": [
    "23423.34>11"
   ]
  },
  {
   "cell_type": "code",
   "execution_count": 285,
   "id": "6666e3f5",
   "metadata": {},
   "outputs": [
    {
     "data": {
      "text/plain": [
       "-Inf16"
      ]
     },
     "execution_count": 285,
     "metadata": {},
     "output_type": "execute_result"
    }
   ],
   "source": [
    "-Inf16"
   ]
  },
  {
   "cell_type": "code",
   "execution_count": 303,
   "id": "983c0a29",
   "metadata": {},
   "outputs": [
    {
     "data": {
      "text/plain": [
       "10-element Vector{Dict{Char, Int64}}:\n",
       " Dict('A' => 6, 'G' => 3, 'T' => 5, 'C' => 6)\n",
       " Dict('G' => 9, 'T' => 4, 'C' => 7)\n",
       " Dict('A' => 4, 'G' => 6, 'T' => 6, 'C' => 4)\n",
       " Dict('A' => 3, 'G' => 7, 'T' => 3, 'C' => 7)\n",
       " Dict('A' => 6, 'G' => 5, 'T' => 3, 'C' => 6)\n",
       " Dict('A' => 5, 'G' => 6, 'T' => 5, 'C' => 4)\n",
       " Dict('A' => 4, 'G' => 1, 'T' => 7, 'C' => 8)\n",
       " Dict('A' => 4, 'G' => 6, 'T' => 6, 'C' => 4)\n",
       " Dict('A' => 3, 'G' => 6, 'T' => 6, 'C' => 5)\n",
       " Dict('A' => 7, 'G' => 6, 'T' => 3, 'C' => 4)"
      ]
     },
     "execution_count": 303,
     "metadata": {},
     "output_type": "execute_result"
    }
   ],
   "source": [
    "[countmap(i) for i in sequences]"
   ]
  },
  {
   "cell_type": "code",
   "execution_count": 304,
   "id": "5967927e",
   "metadata": {},
   "outputs": [
    {
     "data": {
      "text/plain": [
       "2×3 Matrix{Float64}:\n",
       " 0.0  0.0  0.0\n",
       " 0.0  0.0  0.0"
      ]
     },
     "execution_count": 304,
     "metadata": {},
     "output_type": "execute_result"
    }
   ],
   "source": [
    "zeros(Float64,2,3)"
   ]
  },
  {
   "cell_type": "code",
   "execution_count": 309,
   "id": "6bdc041f",
   "metadata": {},
   "outputs": [
    {
     "data": {
      "text/plain": [
       "20-element Vector{Char}:\n",
       " 'C': ASCII/Unicode U+0043 (category Lu: Letter, uppercase)\n",
       " 'A': ASCII/Unicode U+0041 (category Lu: Letter, uppercase)\n",
       " 'G': ASCII/Unicode U+0047 (category Lu: Letter, uppercase)\n",
       " 'T': ASCII/Unicode U+0054 (category Lu: Letter, uppercase)\n",
       " 'T': ASCII/Unicode U+0054 (category Lu: Letter, uppercase)\n",
       " 'C': ASCII/Unicode U+0043 (category Lu: Letter, uppercase)\n",
       " 'C': ASCII/Unicode U+0043 (category Lu: Letter, uppercase)\n",
       " 'A': ASCII/Unicode U+0041 (category Lu: Letter, uppercase)\n",
       " 'A': ASCII/Unicode U+0041 (category Lu: Letter, uppercase)\n",
       " 'T': ASCII/Unicode U+0054 (category Lu: Letter, uppercase)\n",
       " 'G': ASCII/Unicode U+0047 (category Lu: Letter, uppercase)\n",
       " 'T': ASCII/Unicode U+0054 (category Lu: Letter, uppercase)\n",
       " 'C': ASCII/Unicode U+0043 (category Lu: Letter, uppercase)\n",
       " 'A': ASCII/Unicode U+0041 (category Lu: Letter, uppercase)\n",
       " 'T': ASCII/Unicode U+0054 (category Lu: Letter, uppercase)\n",
       " 'C': ASCII/Unicode U+0043 (category Lu: Letter, uppercase)\n",
       " 'G': ASCII/Unicode U+0047 (category Lu: Letter, uppercase)\n",
       " 'A': ASCII/Unicode U+0041 (category Lu: Letter, uppercase)\n",
       " 'A': ASCII/Unicode U+0041 (category Lu: Letter, uppercase)\n",
       " 'C': ASCII/Unicode U+0043 (category Lu: Letter, uppercase)"
      ]
     },
     "execution_count": 309,
     "metadata": {},
     "output_type": "execute_result"
    }
   ],
   "source": [
    "sequences[1:10][1]"
   ]
  },
  {
   "cell_type": "code",
   "execution_count": 314,
   "id": "3ddd6cc2",
   "metadata": {},
   "outputs": [
    {
     "data": {
      "text/plain": [
       "20-element Vector{Char}:\n",
       " 'C': ASCII/Unicode U+0043 (category Lu: Letter, uppercase)\n",
       " 'A': ASCII/Unicode U+0041 (category Lu: Letter, uppercase)\n",
       " 'G': ASCII/Unicode U+0047 (category Lu: Letter, uppercase)\n",
       " 'T': ASCII/Unicode U+0054 (category Lu: Letter, uppercase)\n",
       " 'T': ASCII/Unicode U+0054 (category Lu: Letter, uppercase)\n",
       " 'C': ASCII/Unicode U+0043 (category Lu: Letter, uppercase)\n",
       " 'C': ASCII/Unicode U+0043 (category Lu: Letter, uppercase)\n",
       " 'A': ASCII/Unicode U+0041 (category Lu: Letter, uppercase)\n",
       " 'A': ASCII/Unicode U+0041 (category Lu: Letter, uppercase)\n",
       " 'T': ASCII/Unicode U+0054 (category Lu: Letter, uppercase)\n",
       " 'G': ASCII/Unicode U+0047 (category Lu: Letter, uppercase)\n",
       " 'T': ASCII/Unicode U+0054 (category Lu: Letter, uppercase)\n",
       " 'C': ASCII/Unicode U+0043 (category Lu: Letter, uppercase)\n",
       " 'A': ASCII/Unicode U+0041 (category Lu: Letter, uppercase)\n",
       " 'T': ASCII/Unicode U+0054 (category Lu: Letter, uppercase)\n",
       " 'C': ASCII/Unicode U+0043 (category Lu: Letter, uppercase)\n",
       " 'G': ASCII/Unicode U+0047 (category Lu: Letter, uppercase)\n",
       " 'A': ASCII/Unicode U+0041 (category Lu: Letter, uppercase)\n",
       " 'A': ASCII/Unicode U+0041 (category Lu: Letter, uppercase)\n",
       " 'C': ASCII/Unicode U+0043 (category Lu: Letter, uppercase)"
      ]
     },
     "execution_count": 314,
     "metadata": {},
     "output_type": "execute_result"
    }
   ],
   "source": [
    "[countmap(j) for j in countmapt(sequences[1:]) ]"
   ]
  },
  {
   "cell_type": "code",
   "execution_count": 330,
   "id": "97ca3b73",
   "metadata": {},
   "outputs": [
    {
     "name": "stdout",
     "output_type": "stream",
     "text": [
      "[0.1 0.4 0.3 0.1 0.1 0.1 0.2 0.2 0.1 0.3 0.1 0.4 0.0 0.2 0.2 0.1 0.2 0.2 0.4 0.5; 0.6 0.3 0.2 0.1 0.4 0.4 0.4 0.4 0.3 0.2 0.3 0.1 0.4 0.2 0.2 0.3 0.1 0.3 0.0 0.3; 0.1 0.1 0.3 0.6 0.1 0.4 0.3 0.2 0.3 0.4 0.4 0.3 0.2 0.1 0.2 0.1 0.6 0.4 0.4 0.0; 0.2 0.2 0.2 0.2 0.4 0.1 0.1 0.2 0.3 0.1 0.2 0.2 0.4 0.5 0.4 0.5 0.1 0.1 0.2 0.2]"
     ]
    },
    {
     "data": {
      "text/plain": [
       "(-18.944911458728036, ['C', 'A', 'A', 'G', 'C', 'C', 'C', 'C', 'C', 'G', 'G', 'A', 'C', 'T', 'T', 'T', 'G', 'G', 'A', 'A'])"
      ]
     },
     "execution_count": 330,
     "metadata": {},
     "output_type": "execute_result"
    }
   ],
   "source": [
    "a,b = consensus_score(sequences,[countmap(i) for i in sequences],10)"
   ]
  },
  {
   "cell_type": "code",
   "execution_count": 331,
   "id": "5425926e",
   "metadata": {},
   "outputs": [
    {
     "data": {
      "text/plain": [
       "-18.944911458728036"
      ]
     },
     "execution_count": 331,
     "metadata": {},
     "output_type": "execute_result"
    }
   ],
   "source": [
    "a"
   ]
  },
  {
   "cell_type": "code",
   "execution_count": 332,
   "id": "a5051a0d",
   "metadata": {},
   "outputs": [
    {
     "data": {
      "text/plain": [
       "20-element Vector{Char}:\n",
       " 'C': ASCII/Unicode U+0043 (category Lu: Letter, uppercase)\n",
       " 'A': ASCII/Unicode U+0041 (category Lu: Letter, uppercase)\n",
       " 'A': ASCII/Unicode U+0041 (category Lu: Letter, uppercase)\n",
       " 'G': ASCII/Unicode U+0047 (category Lu: Letter, uppercase)\n",
       " 'C': ASCII/Unicode U+0043 (category Lu: Letter, uppercase)\n",
       " 'C': ASCII/Unicode U+0043 (category Lu: Letter, uppercase)\n",
       " 'C': ASCII/Unicode U+0043 (category Lu: Letter, uppercase)\n",
       " 'C': ASCII/Unicode U+0043 (category Lu: Letter, uppercase)\n",
       " 'C': ASCII/Unicode U+0043 (category Lu: Letter, uppercase)\n",
       " 'G': ASCII/Unicode U+0047 (category Lu: Letter, uppercase)\n",
       " 'G': ASCII/Unicode U+0047 (category Lu: Letter, uppercase)\n",
       " 'A': ASCII/Unicode U+0041 (category Lu: Letter, uppercase)\n",
       " 'C': ASCII/Unicode U+0043 (category Lu: Letter, uppercase)\n",
       " 'T': ASCII/Unicode U+0054 (category Lu: Letter, uppercase)\n",
       " 'T': ASCII/Unicode U+0054 (category Lu: Letter, uppercase)\n",
       " 'T': ASCII/Unicode U+0054 (category Lu: Letter, uppercase)\n",
       " 'G': ASCII/Unicode U+0047 (category Lu: Letter, uppercase)\n",
       " 'G': ASCII/Unicode U+0047 (category Lu: Letter, uppercase)\n",
       " 'A': ASCII/Unicode U+0041 (category Lu: Letter, uppercase)\n",
       " 'A': ASCII/Unicode U+0041 (category Lu: Letter, uppercase)"
      ]
     },
     "execution_count": 332,
     "metadata": {},
     "output_type": "execute_result"
    }
   ],
   "source": [
    "b"
   ]
  },
  {
   "cell_type": "code",
   "execution_count": null,
   "id": "5f2a52ed",
   "metadata": {},
   "outputs": [],
   "source": []
  }
 ],
 "metadata": {
  "kernelspec": {
   "display_name": "Julia 1.8.0",
   "language": "julia",
   "name": "julia-1.8"
  },
  "language_info": {
   "file_extension": ".jl",
   "mimetype": "application/julia",
   "name": "julia",
   "version": "1.8.0"
  }
 },
 "nbformat": 4,
 "nbformat_minor": 5
}
