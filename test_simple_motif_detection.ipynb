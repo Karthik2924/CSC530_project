{
 "cells": [
  {
   "cell_type": "code",
   "execution_count": null,
   "metadata": {},
   "outputs": [],
   "source": [
    "# import the simulation code\n",
    "import NBInclude\n",
    "import Random"
   ]
  },
  {
   "cell_type": "code",
   "execution_count": null,
   "metadata": {},
   "outputs": [],
   "source": [
    "# import the code from the l,d motif simulation notebook\n",
    "NBInclude.@nbinclude(\"simulate_ld_motif.ipynb\")"
   ]
  },
  {
   "cell_type": "code",
   "execution_count": null,
   "metadata": {
    "code_folding": []
   },
   "outputs": [],
   "source": [
    "# set the seed\n",
    "Random.seed!(100)\n",
    "# use tuple unpacking to get some test values\n",
    "motif, motif_starts, motifs_implanted, sequences = GenerateTestData_ld(10, 5, 10, 2)"
   ]
  },
  {
   "cell_type": "code",
   "execution_count": null,
   "metadata": {},
   "outputs": [],
   "source": [
    "# now implement the standard algorithm for motif detection from bioinformatics 2\n",
    "# given we known the length\n",
    "function FindMotifs(Sequences, MotifLength)\n",
    "    # code skeleton\n",
    "    # pick a random sequence at random. scan along this sequences, and create a \"generator\"\n",
    "    # the generator measures the probability of each base at each positions in the motif\n",
    "    # note this should be different than the background probability in the rest of the sequences\n",
    "    # then, we search each generator from the first sequence against all potential start postions in the other sequences\n",
    "    # then, once we find a good match, we pair these sequences up and update the generator\n",
    "    \n",
    "    # we can initiatilize with multiple pairs of sequences to try and assist in the accuracy of detecting the motif\n",
    "    # lastly, at the end, we output a probabilistic description of the motif sequence\n",
    "end"
   ]
  }
 ],
 "metadata": {
  "kernelspec": {
   "display_name": "Julia 1.8.0",
   "language": "julia",
   "name": "julia-1.8"
  },
  "language_info": {
   "file_extension": ".jl",
   "mimetype": "application/julia",
   "name": "julia",
   "version": "1.8.0"
  }
 },
 "nbformat": 4,
 "nbformat_minor": 4
}
