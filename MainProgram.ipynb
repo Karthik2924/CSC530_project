{
 "cells": [
  {
   "cell_type": "code",
   "execution_count": null,
   "id": "fdf8d2fb-47e6-4e07-8435-b51b0607f37e",
   "metadata": {},
   "outputs": [],
   "source": [
    "import LinearAlgebra\n",
    "import Random\n",
    "import BenchmarkTools\n",
    "import StaticArrays\n",
    "import NBInclude\n",
    "import LinearAlgebra\n",
    "NBInclude.@nbinclude(\"simulate_ld_motif.ipynb\")"
   ]
  },
  {
   "cell_type": "markdown",
   "id": "5253d2f8-fe78-42ae-b298-b0c7dd3f5dc9",
   "metadata": {},
   "source": [
    "# sequence simulator"
   ]
  },
  {
   "cell_type": "code",
   "execution_count": null,
   "id": "4d3bcf62-042f-4624-a79a-f494366b4890",
   "metadata": {},
   "outputs": [],
   "source": [
    "# this function takes the length as an argument to generate sequences\n",
    "# note, this can also be used to generate a motif\n",
    "function GenerateSequence(Length)\n",
    "    return collect(Random.randstring(\"ACGT\", Length))\n",
    "end"
   ]
  },
  {
   "cell_type": "code",
   "execution_count": null,
   "id": "064f10be-856c-4e37-84fd-809c90ac3c8f",
   "metadata": {},
   "outputs": [],
   "source": [
    "# create a vector of vector{chars}, each with the same length\n",
    "function GenerateSequences(NumberOfSequences, Length)\n",
    "    return Sequences = map(i -> GenerateSequence(Length), 1:NumberOfSequences)\n",
    "end"
   ]
  },
  {
   "cell_type": "code",
   "execution_count": null,
   "id": "c0adf295-70ed-405a-9501-57e977f291da",
   "metadata": {},
   "outputs": [],
   "source": [
    "function Mutate!(Sequence, Distance)\n",
    "    # return the sequence if the Distance is 0\n",
    "    if Distance == 0\n",
    "        return Sequence\n",
    "    end\n",
    "    # choose the sites to mutate\n",
    "    posToMutate = StatsBase.sample(1:length(Sequence), Distance, replace = false)\n",
    "    \n",
    "    # pick the letters that can be used at each position\n",
    "    basesAtPositions = [string(i) for i in Sequence[posToMutate]]\n",
    "\n",
    "    lettersToFill = [\"ACGT\" for i in 1:length(Sequence)]\n",
    "    \n",
    "    # figure out what letters each positions can be changed to\n",
    "    lettersToFill = map((x, y) -> replace(x, y => \"\"), lettersToFill, basesAtPositions)\n",
    "    \n",
    "    # select one character from each of these positions and place them where they should be\n",
    "    # use only to cast the string to a character\n",
    "    # https://stackoverflow.com/questions/59946081/julia-convert-string-to-char-or-convert-arraysubstringstring-1-to-char\n",
    "    Sequence[posToMutate] = map(x -> only(Random.randstring(x, 1)), lettersToFill)\n",
    "    \n",
    "    return Sequence\n",
    "end"
   ]
  },
  {
   "cell_type": "code",
   "execution_count": null,
   "id": "f42e095a-babe-4f63-b352-fe32488631cc",
   "metadata": {},
   "outputs": [],
   "source": [
    "# generate test data\n",
    "# distance is the number of mutations in each implanted motif\n",
    "function GenerateTestData_ld(NumberOfSequences, LengthMotif, LengthSequences, Distance)\n",
    "    # do some error checking to make sure the values provided are valid\n",
    "    # specifically, Disance <= LengthMotif\n",
    "    if Distance > LengthMotif\n",
    "        error(\"The Distance if larger than the LengthMotif.\")\n",
    "    end\n",
    "\n",
    "    # LengthMotif <= LengthSequences\n",
    "    if LengthMotif > LengthSequences\n",
    "        error(\"The LengthMotif is longer than the LengthSequences\")\n",
    "    end\n",
    "    \n",
    "    # NumberOfSequences >= 2\n",
    "    if NumberOfSequences <= 1\n",
    "        error(\"The NumberOfSequences is 1, which is too small for motif detection\")\n",
    "    end\n",
    "\n",
    "    # generate the input sequences\n",
    "    sequences = GenerateSequences(NumberOfSequences, LengthSequences)\n",
    "    \n",
    "    # make the motif\n",
    "    motif = GenerateSequence(LengthMotif)\n",
    "    \n",
    "    # generate a mutated motif for each sequence to implant\n",
    "    motifs = [copy(motif) for i in 1:NumberOfSequences]\n",
    "    \n",
    "    # broadcast the mutated motif\n",
    "    motifs .= Mutate!.(motifs, Distance)\n",
    "    \n",
    "    # now implant the mutated motifs and record where we implant it\n",
    "    motifStarts = rand(1:(LengthSequences - LengthMotif + 1), NumberOfSequences)\n",
    "    \n",
    "    # now place the motifs into the sequences vector\n",
    "    for i in 1:length(sequences)\n",
    "        sequences[i][motifStarts[i]:(motifStarts[i] + LengthMotif - 1)] = motifs[i]\n",
    "    end\n",
    "    \n",
    "    # now return all the things we may want later\n",
    "    return (motif = motif, motifs_starts = motifStarts, motifs_implanted = motifs, sequences = sequences)\n",
    "end"
   ]
  },
  {
   "cell_type": "markdown",
   "id": "e5f2aad9-cf7f-4700-ad05-fa0365589945",
   "metadata": {},
   "source": [
    "# Score Function"
   ]
  },
  {
   "cell_type": "code",
   "execution_count": null,
   "id": "d4e8719b-9ec1-4479-ae23-0a3e26ded086",
   "metadata": {},
   "outputs": [],
   "source": [
    "# it is written in such a way that it is continuously defined\n",
    "function Score(Starts_inp, Length=length(motif), Seqs=sequences; ln=false)\n",
    "    # MODIFY the inputs if they are out of bounds :-)\n",
    "    ### TO DO: return a very large number of the starts are out of bounds\n",
    "    if (minimum(Starts_inp) < 1) | (maximum(Starts_inp) > (length(Seqs[1]) - Length + 1))\n",
    "        return(Length * length(Seqs))\n",
    "    end\n",
    "    # in the mean time, just fix out of bounds errors\n",
    "\n",
    "    maxScore = Length * length(Seqs)\n",
    "        \n",
    "    seqsMatrix = permutedims(reduce(hcat, map((s, i) -> s[i:(i + Length - 1)], Seqs, Starts_inp)))\n",
    "    \n",
    "    # find the most common element in each column\n",
    "    mostCommon = mapslices(StatsBase.mode, seqsMatrix, dims = 1)\n",
    "    \n",
    "    # now count how many sequences are equal to the consensus\n",
    "    thisScore = sum(map((i, j) -> sum(i .== j), eachslice(seqsMatrix, dims = 2), mostCommon))\n",
    "    \n",
    "    if ln\n",
    "        return(-1 * log(maxScore - thisScore + 1))\n",
    "    else\n",
    "    # make the minimum (best) score 1 so we can compute the log\n",
    "        return(maxScore - thisScore + 1)\n",
    "    end\n",
    "end"
   ]
  },
  {
   "cell_type": "code",
   "execution_count": null,
   "id": "537610ff-6ba8-443b-b7a9-91678c2a0b66",
   "metadata": {},
   "outputs": [],
   "source": [
    "# calculate a partial score in the plus and minus direction\n",
    "# return positive if going in the positive direction increases the score\n",
    "# return negative if going in the negative direction increases the score\n",
    "# the value given is the sum score difference gained from going x-1 -> x -> x+1\n",
    "#### TO DO: deal with edges of the search space\n",
    "# https://www2.atmos.umd.edu/~ekalnay/syllabi/AOSC614/NWP-CH03-2-2.pdf\n",
    "function Grad(Starts_inp, seq, dt, k)\n",
    "    backward = copy(Starts_inp)\n",
    "    forward = copy(Starts_inp)\n",
    "    \n",
    "    backward[seq] -= dt\n",
    "    forward[seq] += dt\n",
    "    \n",
    "    #score1 = Score(Starts_inp) - Score(backward)\n",
    "    #score2 = Score(forward) - Score(Starts_inp)\n",
    "    return((Score(forward, k; ln = true) - Score(backward, k; ln = true))/(2*dt))\n",
    "end"
   ]
  },
  {
   "cell_type": "code",
   "execution_count": null,
   "id": "79c6ae2f-4a88-4c3a-a075-ec1c80cba3f4",
   "metadata": {},
   "outputs": [],
   "source": [
    "function CalcGrad(StartsInp, dt, k)\n",
    "    return Grad.((StartsInp,), 1:length(StartsInp), (dt,), (k,))\n",
    "end"
   ]
  },
  {
   "cell_type": "code",
   "execution_count": null,
   "id": "d9640496-41d9-4ba2-a4e7-8e333bfab1cf",
   "metadata": {},
   "outputs": [],
   "source": [
    "function Grad2(Starts_inp, seq, dt=1)\n",
    "    backward = copy(Starts_inp)\n",
    "    forward = copy(Starts_inp)\n",
    "    \n",
    "    backward[seq] -= dt\n",
    "    forward[seq] += dt\n",
    "    \n",
    "    #score1 = Score(Starts_inp) - Score(backward)\n",
    "    #score2 = Score(forward) - Score(Starts_inp)\n",
    "    return(Score(forward; ln = true) - 2 * Score(Starts_inp; ln = true) + Score(backward; ln = true)/(dt^2))\n",
    "end"
   ]
  },
  {
   "cell_type": "code",
   "execution_count": null,
   "id": "1354b0c0-12b8-4f21-9dc8-dc08f6d605a3",
   "metadata": {},
   "outputs": [],
   "source": [
    "function CalcGrad2(StartsInp, dt=1)\n",
    "    return Grad2.((StartsInp,), 1:length(StartsInp), (dt,))\n",
    "end"
   ]
  },
  {
   "cell_type": "markdown",
   "id": "d59e4299-4914-4447-a9b3-f6c9ee59225d",
   "metadata": {},
   "source": [
    "# HMC"
   ]
  },
  {
   "cell_type": "code",
   "execution_count": null,
   "id": "a16b634e-099c-4fcc-a0b1-e9333e45c12f",
   "metadata": {},
   "outputs": [],
   "source": [
    "function H(particle, velocity)\n",
    "    return(U(particle) + 1/2 * velocity' * inv(LinearAlgebra.I) * velocity)\n",
    "end"
   ]
  },
  {
   "cell_type": "code",
   "execution_count": null,
   "id": "23c18f28-99af-4a95-b4cf-68dfc232e99a",
   "metadata": {},
   "outputs": [],
   "source": [
    "function U(particle)\n",
    "    return(-1 * log(Score(particle)))\n",
    "end"
   ]
  },
  {
   "cell_type": "code",
   "execution_count": null,
   "id": "dfefb4fc-57b6-4f3b-8f52-cf217c2c6b73",
   "metadata": {},
   "outputs": [],
   "source": [
    "function leap(particle, velocity, dt, iter, k, Seqs)\n",
    "    # TODO: preallocate the array of static arrays\n",
    "    particle_sample = []\n",
    "    \n",
    "    #### To do: convert these vectors to staticarrays\n",
    "    # initial particle position and velocity\n",
    "    xnt = copy([i for i in particle])\n",
    "    pnt = copy([i for i in velocity])\n",
    "    \n",
    "    # iterate for the number of time steps desired\n",
    "    # TODO: add stopping criterion\n",
    "    for t in 1:iter\n",
    "        # do the first half-step\n",
    "        # update the particles momentum by looking at the previous moments\n",
    "        # and adding half-ish the change in the potential energy\n",
    "        pn_t_dt2 = pnt .- (dt/2) .* CalcGrad(xnt, dt, k)\n",
    "        \n",
    "        # update the particle position after t time\n",
    "        # by using the new momentum, found in the previous half step\n",
    "        xn_t_dt = xnt .+ dt * inv(LinearAlgebra.I) * pn_t_dt2\n",
    "        # round this value to an integer, since our scorer only works\n",
    "        # on discrete values\n",
    "        \n",
    "        ### TODO: add a bounds check here to prevent from going out of bounds\n",
    "        # also, do something different besides rounding, like using the logic in add_vectors\n",
    "        xn_t_dt = Int.(round.(xn_t_dt))\n",
    "        \n",
    "        # update the momentum again, this time by evaluating the gradient at the new point\n",
    "        pn_t_dt = pn_t_dt2 .- (dt/2) .* CalcGrad(xn_t_dt, dt, k)\n",
    "        \n",
    "        # do a metropolis-hastings step\n",
    "        \n",
    "        # compute the ratio of hamiltonian new/old like on the wiki page      \n",
    "        # if this value is off substantially, we will end up rejecting the sample\n",
    "        α = min(1, (exp(-1 * H(xn_t_dt, pn_t_dt)))/(exp(-1 * H(xnt, pnt))))\n",
    "\n",
    "        # if our random number is less than alpha, accept the new proposal\n",
    "        if (rand(1)[1] <= α) & (minimum(xn_t_dt) >= 1) | (maximum(xn_t_dt) >= (length(Seqs[1]) - k + 1))\n",
    "            xnt = xn_t_dt\n",
    "            pnt = pn_t_dt\n",
    "            append!(particle_sample, (xnt,))\n",
    "        end\n",
    "        \n",
    "        #### TODO:\n",
    "        # check if we are at a boundary. if so, reverse the sign of the velocity for that dimension\n",
    "    end\n",
    "    return(particle_sample)\n",
    "end"
   ]
  },
  {
   "cell_type": "markdown",
   "id": "f93c0bdc-8433-43d2-9e8d-896ba0adbc5f",
   "metadata": {
    "tags": []
   },
   "source": [
    "# PSO"
   ]
  },
  {
   "cell_type": "code",
   "execution_count": null,
   "id": "9e7080ac-41cc-494d-a13d-7f5585e77196",
   "metadata": {},
   "outputs": [],
   "source": [
    "function add_vectors(vec1, vec2)\n",
    "    # find the norm of the first vector, which is the particle\n",
    "    added = (vec1 .+ vec2).*(LinearAlgebra.norm(vec1, 2)/(LinearAlgebra.norm(vec1, 2)+LinearAlgebra.norm(vec2, 2)))\n",
    "    \n",
    "    # get the remainder part\n",
    "    round_dir = ifelse.(added - floor.(added) .< rand(length(vec1)), RoundUp::RoundingMode, RoundDown::RoundingMode)\n",
    "    # add the two vectors together\n",
    "    # now round each value to get an integer array\n",
    "    # get a random number for each position in the vector\n",
    "\n",
    "    vec_out = StaticArrays.SVector{length(vec1), Int64}(map((x, y) -> round(Int64, x, y), added, round_dir))\n",
    "    return vec_out\n",
    "    ## todo: deal with situations where the norm of vec1 is very close tozero\n",
    "end"
   ]
  },
  {
   "cell_type": "code",
   "execution_count": null,
   "id": "bcec8cfe-ed7d-4067-808c-8391ed76e9cb",
   "metadata": {},
   "outputs": [],
   "source": [
    "function Algorithm(seqs, k, dims = 3, nparticles = 10, maxiter = 500)\n",
    "    # generate the starting points for the algorithm\n",
    "    # store these in a matrix, where each column is a particle, and each row is a dimension in the search space\n",
    "    particles = [StaticArrays.SVector{dims, Int64}(rand(1:(length(seqs[1]) - k + 1), dims)) for i in 1:nparticles]\n",
    "    velocities = [StaticArrays.SVector{dims, Int64}(rand(-3:3, dims)) for i in 1:nparticles]\n",
    "    direction = [StaticArrays.SVector{dims, Int64}(zeros(Int64, dims)) for i in 1:nparticles]\n",
    "    scores = zeros(Int64, nparticles)\n",
    "\n",
    "    #scores = StaticArrays.@MVector zeros(Int64, nparticles)\n",
    "    \n",
    "    # create a set to store the points that we have visited, to avoid looking at the same points repeatedly\n",
    "    visited = Set{StaticArrays.SVector{dims, Int64}}()\n",
    "    \n",
    "    # give a size hint for the set of visited points, hopefully preventing it from growing repeatedly\n",
    "    sizehint!(visited, nparticles * maxiter)\n",
    "    \n",
    "    iter = 1\n",
    "    \n",
    "    best_particle = zeros(Int64, dims)\n",
    "    global_optimum = Inf\n",
    "        \n",
    "    wiggled = 0\n",
    "    terminated = 0\n",
    "    # loop until convergence\n",
    "    # while iter < maxiter\n",
    "    while iter <= maxiter\n",
    "        # \"wiggle\" each particle position if it's already been visited, or if its out of bounds\n",
    "        idx = findall(x -> (x in visited) | (minimum(x) < 1) | (maximum(x) > (length(seqs[1]) - k + 1)), particles)\n",
    "        \n",
    "        # for each of these, try wiggling\n",
    "        for part in idx\n",
    "            wiggled += 1\n",
    "            newpart = particles[part]\n",
    "            tries = 1\n",
    "            while (tries < 40) & (newpart in visited)\n",
    "                dist = Int(floor(tries/4 + 1))\n",
    "                newpart = particles[part] .+ (rand(1:dist, dims) .* rand([-1, 1], dims))\n",
    "                tries += 1\n",
    "            end\n",
    "            particles[part] = newpart\n",
    "        end\n",
    "        \n",
    "        # compute the current scores of each particle\n",
    "        map!(x -> Score(x), scores, particles)\n",
    "            \n",
    "        # find the current best particle\n",
    "        best_score = findmin(scores)\n",
    "        \n",
    "        # if this score is better than the current best score, update\n",
    "        if best_score[1] < global_optimum[1]\n",
    "            global_optimum = best_score[1]\n",
    "            best_particle .= particles[best_score[2]]\n",
    "        end\n",
    "        \n",
    "        ##### TODO: change this line that it actually uses the information from HMC\n",
    "        # we will get a sample of particle positions from HMC\n",
    "        # we can \"thin\" our sample to prefer the proposed positions that are in the direction of the best particle\n",
    "        #####\n",
    "        \n",
    "        # for each of the current vectors\n",
    "            # sample nearby positions and run HMC for 30 steps for each of 30 sampled particles\n",
    "            # sample such that particles are more likely to start in the direction the particle is heading and in the direction of the best particle\n",
    "        \n",
    "        # perform local search with HMC:\n",
    "        #leap([10, 10, 10] , [1, 12, 1], 1, 30, 10, seqs)\n",
    "        \n",
    "        # add the vectors and update the velocities\n",
    "        # adding the vector of the current particle and the direction that we want to head\n",
    "        map!((x, y) -> add_vectors(x, sign.(best_particle .- y)), velocities, velocities, particles)\n",
    "        \n",
    "        # save the new locations we've visited\n",
    "        map(x -> push!(visited, x), velocities, )\n",
    "\n",
    "        # update the particle positions based on the velocities\n",
    "        particles .+= velocities\n",
    "        \n",
    "        # convergence criteria: quit when idx is full for ten iterations in a row\n",
    "        if length(idx) == nparticles\n",
    "            terminated += 1\n",
    "        end\n",
    "        \n",
    "        if terminated == 10\n",
    "            iter += maxiter\n",
    "        end\n",
    "\n",
    "        iter += 1\n",
    "    end \n",
    "    # print(wiggled)\n",
    "    return(global_optimum, best_particle)\n",
    "end"
   ]
  },
  {
   "cell_type": "markdown",
   "id": "4135f980-1b6a-4b33-84bd-7e7d52ed6c57",
   "metadata": {
    "tags": []
   },
   "source": [
    "# Unit Testing"
   ]
  },
  {
   "cell_type": "code",
   "execution_count": null,
   "id": "ab9e0e52-5540-4e83-8893-59c208c2483f",
   "metadata": {},
   "outputs": [],
   "source": [
    "# test add_vectors!"
   ]
  },
  {
   "cell_type": "code",
   "execution_count": null,
   "id": "969b81dc-f412-434b-bf72-48ac0919a284",
   "metadata": {},
   "outputs": [],
   "source": [
    "# check if out of bounds is working in Score\n",
    "# motif, motif_starts, motifs_implanted, sequences = GenerateTestData_ld(3, 14, 30, 0)\n",
    "# Score([1, 1, 0], sequences, 14)\n",
    "# Score([1, 1, 18], sequences, 14)"
   ]
  },
  {
   "cell_type": "markdown",
   "id": "c220776f-e957-4fa6-b194-1a0bfa7e855f",
   "metadata": {},
   "source": [
    "# Hyperparameter Tuning"
   ]
  },
  {
   "cell_type": "markdown",
   "id": "5a4d2ed9-1e76-4b32-a25a-1f4451db8450",
   "metadata": {},
   "source": [
    "# Benchmarking"
   ]
  },
  {
   "cell_type": "code",
   "execution_count": null,
   "id": "3d5265a9-14e3-46f7-a3d0-c853a07c1747",
   "metadata": {},
   "outputs": [],
   "source": [
    "# set the seed\n",
    "Random.seed!(100)\n",
    "# use tuple unpacking to get some test values\n",
    "# NumberOfSequences, LengthMotif, LengthSequences, Distance\n",
    "motif, motif_starts, motifs_implanted, sequences = GenerateTestData_ld(3, 10, 30, 0)"
   ]
  },
  {
   "cell_type": "code",
   "execution_count": null,
   "id": "4a7bad3f-a6df-4a17-a9e2-89572bd9b9ea",
   "metadata": {},
   "outputs": [],
   "source": [
    "#Random.seed!(123)\n",
    "Algorithm(sequences, 14, size(sequences, 1), 100, 500)"
   ]
  }
 ],
 "metadata": {
  "kernelspec": {
   "display_name": "Julia 1.8.0",
   "language": "julia",
   "name": "julia-1.8"
  },
  "language_info": {
   "file_extension": ".jl",
   "mimetype": "application/julia",
   "name": "julia",
   "version": "1.8.0"
  }
 },
 "nbformat": 4,
 "nbformat_minor": 5
}
