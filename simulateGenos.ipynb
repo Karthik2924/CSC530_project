{
 "cells": [
  {
   "cell_type": "code",
   "execution_count": null,
   "id": "69466bca",
   "metadata": {},
   "outputs": [],
   "source": [
    "import BenchmarkTools"
   ]
  },
  {
   "cell_type": "code",
   "execution_count": null,
   "id": "c00601e2",
   "metadata": {},
   "outputs": [],
   "source": [
    "import Random"
   ]
  },
  {
   "cell_type": "code",
   "execution_count": null,
   "id": "a187397f",
   "metadata": {},
   "outputs": [],
   "source": [
    "import Profile"
   ]
  },
  {
   "cell_type": "markdown",
   "id": "db904547",
   "metadata": {},
   "source": [
    "# Main functions\n",
    "It would be nice to add a \"stack\" that keeps track of which changes were made when, going from ancestral to current sequence."
   ]
  },
  {
   "cell_type": "code",
   "execution_count": null,
   "id": "26902980",
   "metadata": {},
   "outputs": [],
   "source": [
    "function MutateSNP!(Sequence::Array{Char}, MutationRate::Real)\n",
    "\t# pick the site to mutate\n",
    "\tsites_to_mutate = map(i -> i < MutationRate, rand(length(Sequence)))\n",
    "\t@inbounds Sequence[sites_to_mutate] .= Random.rand(['A', 'C', 'G', 'T'])\n",
    "\treturn Sequence\n",
    "end"
   ]
  },
  {
   "cell_type": "code",
   "execution_count": null,
   "id": "2c0961c2",
   "metadata": {},
   "outputs": [],
   "source": [
    "function MutateInDel!(Sequence::Vector{Char}, InDelRate::Real)\n",
    "\t# loop over every position in the sequence starting with 1\n",
    "\ti = 1\n",
    "\twhile i <= length(Sequence)\n",
    "\t\t# get a random number\n",
    "\t\trand_val = Random.rand()\n",
    "\t\t# if the number is less than half the indel rate, add a char\n",
    "\t\tif rand_val < InDelRate/2\n",
    "\t\t\tinsert!(Sequence, i, Random.rand(['A', 'C', 'G', 'T']))\n",
    "\t\t# if the number is less than the indel rate but greater than half, delete the char\n",
    "\t\telseif rand_val < InDelRate\n",
    "\t\t\tdeleteat!(Sequence, i)\n",
    "\t\tend\n",
    "\t\t# increment the counter\n",
    "\t\ti += 1\n",
    "\tend\n",
    "end"
   ]
  },
  {
   "cell_type": "code",
   "execution_count": null,
   "id": "b5f60db3",
   "metadata": {},
   "outputs": [],
   "source": [
    "function Mutate!(Sequence::Array{Char}, MutationRate::Real, InDelRate::Real, Generation)\n",
    "\tfor i in range(1, Generation)\n",
    "\t\tMutateInDel!(MutateSNP!(Sequence, MutationRate), InDelRate)\n",
    "\tend\n",
    "\treturn(Sequence)\n",
    "end"
   ]
  },
  {
   "cell_type": "code",
   "execution_count": 1,
   "id": "ffe41e01",
   "metadata": {},
   "outputs": [
    {
     "data": {
      "text/plain": [
       "GenerateSequences (generic function with 1 method)"
      ]
     },
     "execution_count": 1,
     "metadata": {},
     "output_type": "execute_result"
    }
   ],
   "source": [
    "function GenerateSequences(Seq0::Vector{Char}, NumSequences::Integer, NumGenerations::Integer, MutationRate::Real, InDelRate::Real)\n",
    "\t# instantiate a vector with copies of Seq0\n",
    "\tseqs = [copy(Seq0) for i in range(1, NumSequences)]\n",
    "\n",
    "\t# broadcast the mutate function over the items in the array\n",
    "\tseqs .= Mutate!.(seqs, MutationRate, InDelRate, NumGenerations)\n",
    "\t# return an array of character vectors\n",
    "\treturn seqs\n",
    "end"
   ]
  },
  {
   "cell_type": "markdown",
   "id": "f16393d5",
   "metadata": {},
   "source": [
    "# provide an input string\n",
    "And get the desired number of mutated strings"
   ]
  },
  {
   "cell_type": "code",
   "execution_count": null,
   "id": "23be3ce0",
   "metadata": {},
   "outputs": [],
   "source": [
    "begin\n",
    "\tRandom.seed!(12)\n",
    "\tout = GenerateSequences(collect(Random.randstring(\"ACGT\", 200)), 10, 1000, 0.0001, 0.00001)\n",
    "\tout = map(i -> join(i), out)\n",
    "\tout_fmt = join(map(i -> \">seq\"*string(i)*\"\\n\"*out[i]*\"\\n\", 1:10))\n",
    "\tprint(out_fmt)\n",
    "end"
   ]
  },
  {
   "cell_type": "code",
   "execution_count": null,
   "id": "b8f76540",
   "metadata": {},
   "outputs": [],
   "source": [
    "@BenchmarkTools.btime GenerateSequences(collect(Random.randstring(\"ACGT\", 200)), 2, 10000, 0.0001, 0.00001)"
   ]
  },
  {
   "cell_type": "code",
   "execution_count": null,
   "id": "dbc5399c",
   "metadata": {},
   "outputs": [],
   "source": [
    "# @Profile.profile GenerateSequences(collect(Random.randstring(\"ACGT\", 200)), 2, 10000, 0.0001, 0.00001)\n",
    "\n",
    "@Profile.profile MutateSNP!(collect(Random.randstring(\"ACGT\", 1000000)), 0.5)"
   ]
  },
  {
   "cell_type": "code",
   "execution_count": null,
   "id": "6a0d4840",
   "metadata": {},
   "outputs": [],
   "source": [
    "Profile.print()"
   ]
  },
  {
   "cell_type": "markdown",
   "id": "31ba6ead",
   "metadata": {},
   "source": [
    "# try making a tree-like structure\n",
    "The next task would be to separate branches in some defined way, and call the above functions to generate sequences that imitate a phylogenetic tree."
   ]
  }
 ],
 "metadata": {
  "kernelspec": {
   "display_name": "Julia 1.8.0",
   "language": "julia",
   "name": "julia-1.8"
  },
  "language_info": {
   "file_extension": ".jl",
   "mimetype": "application/julia",
   "name": "julia",
   "version": "1.8.0"
  }
 },
 "nbformat": 4,
 "nbformat_minor": 5
}
