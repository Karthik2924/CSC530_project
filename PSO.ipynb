{
 "cells": [
  {
   "cell_type": "code",
   "execution_count": null,
   "id": "966335a3",
   "metadata": {},
   "outputs": [],
   "source": [
    "import LinearAlgebra"
   ]
  },
  {
   "cell_type": "code",
   "execution_count": null,
   "id": "93b547c3",
   "metadata": {},
   "outputs": [],
   "source": [
    "import Random"
   ]
  },
  {
   "cell_type": "code",
   "execution_count": null,
   "id": "32f73477",
   "metadata": {},
   "outputs": [],
   "source": [
    "import BenchmarkTools"
   ]
  },
  {
   "cell_type": "code",
   "execution_count": null,
   "id": "38aca6c6",
   "metadata": {},
   "outputs": [],
   "source": [
    "import Profile"
   ]
  },
  {
   "cell_type": "code",
   "execution_count": null,
   "id": "db6c2e10",
   "metadata": {},
   "outputs": [],
   "source": [
    "import StaticArrays\n",
    "# details on staticarrays here https://m3g.github.io/JuliaNotes.jl/stable/immutable/"
   ]
  },
  {
   "cell_type": "markdown",
   "id": "a6db24e6",
   "metadata": {},
   "source": [
    "# test scoring function\n",
    "formulate as a minimization problem"
   ]
  },
  {
   "cell_type": "code",
   "execution_count": null,
   "id": "18d6818c",
   "metadata": {},
   "outputs": [],
   "source": [
    "function Score(Answer)\n",
    "    return(ceil(Int64, (LinearAlgebra.norm(Answer .- 500))^2))\n",
    "end"
   ]
  },
  {
   "cell_type": "markdown",
   "id": "9d25ea61",
   "metadata": {},
   "source": [
    "# overall implementation\n",
    "this function runs the particle simulations"
   ]
  },
  {
   "cell_type": "code",
   "execution_count": null,
   "id": "8f73ec99",
   "metadata": {},
   "outputs": [],
   "source": [
    "function TestAlgorithm(dims = 3, nparticles = 10, maxiter = 500)\n",
    "    # generate the starting points for the algorithm\n",
    "    # store these in a matrix, where each column is a particle, and each row is a dimension in the search space\n",
    "    particles = [StaticArrays.SVector{dims, Int64}(rand(1:1000, dims)) for i in 1:nparticles]\n",
    "    velocities = [StaticArrays.SVector{dims, Int64}(rand(-3:3, dims)) for i in 1:nparticles]\n",
    "    direction = [StaticArrays.SVector{dims, Int64}(zeros(Int64, dims)) for i in 1:nparticles]\n",
    "    scores = zeros(Int64, nparticles)\n",
    "\n",
    "    #scores = StaticArrays.@MVector zeros(Int64, nparticles)\n",
    "    \n",
    "    # create a set to store the points that we have visited, to avoid looking at the same points repeatedly\n",
    "    visited = Set{StaticArrays.SVector{dims, Int64}}()\n",
    "    \n",
    "    # give a size hint for the set of visited points, hopefully preventing it from growing repeatedly\n",
    "    sizehint!(visited, nparticles * maxiter)\n",
    "    \n",
    "    iter = 1\n",
    "    \n",
    "    best_particle = zeros(Int64, dims)\n",
    "    global_optimum = Inf\n",
    "        \n",
    "    wiggled = 0\n",
    "    # loop until convergence\n",
    "    # while iter < maxiter\n",
    "    while iter <= maxiter\n",
    "        # \"wiggle\" each particle position if it's already been visited\n",
    "        idx = findall(x -> x in visited, particles)\n",
    "        \n",
    "        # for each of these, try wiggling\n",
    "        for part in idx\n",
    "            wiggled += 1\n",
    "            newpart = particles[part]\n",
    "            tries = 1\n",
    "            while (tries < 40) & (newpart in visited)\n",
    "                dist = Int(floor(tries/4 + 1))\n",
    "                newpart = particles[part] .+ (rand(1:dist, dims) .* rand([-1, 1], dims))\n",
    "                tries += 1\n",
    "            end\n",
    "            particles[part] = newpart\n",
    "        end\n",
    "        \n",
    "        # compute the current scores of each particle\n",
    "        map!(x -> Score(x), scores, particles)\n",
    "            \n",
    "        # find the current best particle\n",
    "        best_score = findmin(scores)\n",
    "        \n",
    "        # if this score is better than the current best score, update\n",
    "        if best_score[1] < global_optimum[1]\n",
    "            global_optimum = best_score[1]\n",
    "            best_particle .= particles[best_score[2]]\n",
    "        end\n",
    "        \n",
    "        # figure out which direction each particle needs to go to head towards this best particle\n",
    "        # need to work on this component\n",
    "        # and weighting the amount that the velocities change\n",
    "        direction .= map(x -> sign.(best_particle .- x), particles)\n",
    "\n",
    "        # add this change in direction to the current velocities vector\n",
    "        velocities .+= direction\n",
    "        \n",
    "        # subtract out 1 + the largest direction to slow down the particle a little bit\n",
    "        map!(x -> trunc.(Int64, (x ./ (maximum(abs.(x))) .+ sign.(x))), velocities, velocities)\n",
    "        \n",
    "        # save the new locations we've visited\n",
    "        map(x -> push!(visited, x), particles)\n",
    "\n",
    "        # update the particle positions based on the velocities\n",
    "        particles .+= velocities\n",
    "\n",
    "        iter += 1\n",
    "    end \n",
    "    # print(wiggled)\n",
    "    return(global_optimum, best_particle)\n",
    "end"
   ]
  },
  {
   "cell_type": "markdown",
   "id": "a4e3d497",
   "metadata": {},
   "source": [
    "# Test the implementation"
   ]
  },
  {
   "cell_type": "code",
   "execution_count": null,
   "id": "14acff9e",
   "metadata": {
    "scrolled": true
   },
   "outputs": [],
   "source": [
    "Random.seed!(100)\n",
    "a = TestAlgorithm(100, 1000, 2500)"
   ]
  },
  {
   "cell_type": "code",
   "execution_count": null,
   "id": "d9ae0b80",
   "metadata": {},
   "outputs": [],
   "source": [
    "BenchmarkTools.@btime(TestAlgorithm(100, 1000, 500))"
   ]
  },
  {
   "cell_type": "code",
   "execution_count": null,
   "id": "252b85c7",
   "metadata": {},
   "outputs": [],
   "source": [
    "Profile.@profile TestAlgorithm(100, 1000, 500)"
   ]
  },
  {
   "cell_type": "code",
   "execution_count": null,
   "id": "3c9baa19",
   "metadata": {},
   "outputs": [],
   "source": [
    "Profile.print()"
   ]
  },
  {
   "cell_type": "code",
   "execution_count": null,
   "id": "be96ca1c",
   "metadata": {},
   "outputs": [],
   "source": [
    "a = Vector{Int}(undef, 1)\n",
    "a[1] = 1"
   ]
  }
 ],
 "metadata": {
  "kernelspec": {
   "display_name": "Julia 1.8.0",
   "language": "julia",
   "name": "julia-1.8"
  },
  "language_info": {
   "file_extension": ".jl",
   "mimetype": "application/julia",
   "name": "julia",
   "version": "1.8.0"
  }
 },
 "nbformat": 4,
 "nbformat_minor": 5
}
