{
 "cells": [
  {
   "cell_type": "code",
   "execution_count": null,
   "id": "5b391bad",
   "metadata": {},
   "outputs": [],
   "source": [
    "import LinearAlgebra"
   ]
  },
  {
   "cell_type": "code",
   "execution_count": null,
   "id": "294e3f35",
   "metadata": {},
   "outputs": [],
   "source": [
    "import Random"
   ]
  },
  {
   "cell_type": "code",
   "execution_count": null,
   "id": "408cbf1f",
   "metadata": {},
   "outputs": [],
   "source": [
    "import BenchmarkTools"
   ]
  },
  {
   "cell_type": "markdown",
   "id": "ae0b8de1",
   "metadata": {},
   "source": [
    "# test scoring function\n",
    "formulate as a minmization problem"
   ]
  },
  {
   "cell_type": "code",
   "execution_count": null,
   "id": "7d227124",
   "metadata": {},
   "outputs": [],
   "source": [
    "function Score(Answer)\n",
    "    return(ceil(Int64, (LinearAlgebra.norm(Answer .- 500))^2))\n",
    "end"
   ]
  },
  {
   "cell_type": "code",
   "execution_count": null,
   "id": "f30e90b4",
   "metadata": {},
   "outputs": [],
   "source": [
    "function TestAlgorithm(dims = 3, nparticles = 10, maxiter = 500)\n",
    "    # generate the starting points for the algorithm\n",
    "    # store these in a matrix, where each column is a particle, and each row is a dimension in the search space\n",
    "    particles = rand(1:1000, dims, nparticles)\n",
    "    velocities = rand(-3:3, dims, nparticles)\n",
    "    direction = zeros(Int64, dims, nparticles)\n",
    "    scores = zeros(Int64, nparticles)\n",
    "    \n",
    "    # create a set to store the points that we have visited, to avoid looking at the same points repeatedly\n",
    "    visited = Set{Vector{Int64}}()\n",
    "    \n",
    "    # give a size hint for the set of visited points, hopefully preventing it from growing repeatedly\n",
    "    sizehint!(visited, nparticles * maxiter)\n",
    "    \n",
    "    # save all the locations we've visited\n",
    "    mapslices(x -> push!(visited, x), particles, dims = 1)\n",
    "    \n",
    "    iter = 1\n",
    "    \n",
    "    best_particle = zeros(Int64, dims)\n",
    "    global_optimum = Inf\n",
    "    \n",
    "    # loop until convergence\n",
    "    # while iter < maxiter\n",
    "    while iter < maxiter\n",
    "        # compute the current scores of each particle\n",
    "        map!(x -> Score(x), scores, collect(eachcol(particles)))\n",
    "        \n",
    "        # find the current best particle\n",
    "        best_score = findmin(scores)\n",
    "        \n",
    "        # if this score is better than the current best score, update\n",
    "        if best_score[1] < global_optimum[1]\n",
    "            global_optimum = best_score[1]\n",
    "            best_particle .= particles[:,best_score[2]]\n",
    "        end\n",
    "        \n",
    "        # figure out which direction each particle needs to go to head towards this best particle\n",
    "        # need to work on this component\n",
    "        # and weighting the amount that the velocities change\n",
    "        # also need to take advantage of the fact that we can store the visited vectors as we go!\n",
    "        direction .= mapslices(x -> sign.(best_particle .- x), particles, dims = 1)\n",
    "\n",
    "        # add this change in direction to the current velocities vector\n",
    "        velocities += direction\n",
    "\n",
    "        # update the particle positions based on the velocities\n",
    "        particles += velocities\n",
    "        \n",
    "        # save the new locations we've visited\n",
    "        mapslices(x -> push!(visited, x), particles, dims = 1)\n",
    "\n",
    "        iter += 1\n",
    "    end    \n",
    "    return(global_optimum, best_particle)\n",
    "end"
   ]
  },
  {
   "cell_type": "code",
   "execution_count": null,
   "id": "2d235864",
   "metadata": {
    "scrolled": true
   },
   "outputs": [],
   "source": [
    "Random.seed!(100)\n",
    "a = TestAlgorithm(100, 1000, 500)"
   ]
  },
  {
   "cell_type": "code",
   "execution_count": null,
   "id": "cd517106",
   "metadata": {},
   "outputs": [],
   "source": [
    "BenchmarkTools.@btime(TestAlgorithm(100, 1000, 500))"
   ]
  }
 ],
 "metadata": {
  "kernelspec": {
   "display_name": "Julia 1.8.0",
   "language": "julia",
   "name": "julia-1.8"
  },
  "language_info": {
   "file_extension": ".jl",
   "mimetype": "application/julia",
   "name": "julia",
   "version": "1.8.0"
  }
 },
 "nbformat": 4,
 "nbformat_minor": 5
}
